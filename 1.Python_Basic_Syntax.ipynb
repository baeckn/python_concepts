{
 "cells": [
  {
   "cell_type": "markdown",
   "id": "1cf068fa-1d6a-4b80-a58e-105da341d7aa",
   "metadata": {},
   "source": [
    "# Python Basic Syntax\n",
    "- Data Types\n",
    "    - Dynamic Typing : Automatically sets data types in memory. Python interpreter does type checking only as code runs, and the type of a variable is allowed to change over its lifetime\n",
    "    - Basic Data Types : integer, float, boolean, string\n",
    "    - Collection Data Types : list(iterable), tuple(iterable), dict\n",
    "- Offset Index\n",
    "    - Used to access data located at a specific element of a data object\n",
    "    - Only allowed in iterable data types\n",
    "- Conversion\n",
    "    - Allows chaning data types of varabiles\n",
    "    - zip\n",
    "        - Pairs data in the same index of multiple lists\n",
    "        - Matched pairs then can be used to be converted to a dictionary object\n",
    "- Ternary Operator (삼항연산자)\n",
    "    - A one line code to implement basic if, else statments\n",
    "    - (True) if (condition) else (False)\n",
    "- List Comprehension\n",
    "    - An easy and compact syntax for creating a list from a string or another list\n",
    "    - It is a very concise way to create a new list by performing an operation on each item in the existing list\n",
    "    - List comprehension is considerably faster than processing a list using the for loop\n",
    "- Parameters and Arguments\n",
    "    - Parameter: the variable as found in the function definition\n",
    "    - Argument : the the actual input supplied at function call\n",
    "- Return\n",
    "    - Return is used to store results of a function call\n",
    "    - Not every built-in functions have return set as default\n",
    "- Args and Kwargs\n",
    "    - The **args** and kwargs keywords allow you to pass a variable number of arguments to a Python function\n",
    "    - The **args** keyword sends a list of values to a function\n",
    "    - The **kwargs** sends a dictionary with values associated with keywords to a function"
   ]
  },
  {
   "cell_type": "markdown",
   "id": "78bf1356-d3b1-44f8-99bb-211ccf0f875b",
   "metadata": {},
   "source": [
    "### 1. Zip Function"
   ]
  },
  {
   "cell_type": "code",
   "execution_count": 4,
   "id": "aa30bf0a-6f9a-4505-89f6-701a1db3d695",
   "metadata": {},
   "outputs": [],
   "source": [
    "#list\n",
    "city = [\"seoul\", \"busan\", \"daegu\"]\n",
    "population = [9700000, 3400000, 2400000]"
   ]
  },
  {
   "cell_type": "code",
   "execution_count": 5,
   "id": "50b43d4b-1652-4448-8477-fa0782590c75",
   "metadata": {},
   "outputs": [
    {
     "data": {
      "text/plain": [
       "[('seoul', 9700000), ('busan', 3400000), ('daegu', 2400000)]"
      ]
     },
     "execution_count": 5,
     "metadata": {},
     "output_type": "execute_result"
    }
   ],
   "source": [
    "#zip city and population lists\n",
    "list(zip(city, population))"
   ]
  },
  {
   "cell_type": "code",
   "execution_count": 7,
   "id": "60d07cc5-e572-45e0-8fd1-25b9779257fd",
   "metadata": {},
   "outputs": [
    {
     "data": {
      "text/plain": [
       "{'seoul': 9700000, 'busan': 3400000, 'daegu': 2400000}"
      ]
     },
     "execution_count": 7,
     "metadata": {},
     "output_type": "execute_result"
    }
   ],
   "source": [
    "#convert to a dictionary object\n",
    "dict(list(zip(city, population)))"
   ]
  },
  {
   "cell_type": "markdown",
   "id": "a45b1824-9282-4a22-80f7-6bd67470aed2",
   "metadata": {},
   "source": [
    "### 2. Ternary Operator"
   ]
  },
  {
   "cell_type": "code",
   "execution_count": 11,
   "id": "5802700c-4395-4af0-8d48-d58df25581d2",
   "metadata": {},
   "outputs": [
    {
     "name": "stdout",
     "output_type": "stream",
     "text": [
      "not zero\n"
     ]
    }
   ],
   "source": [
    "#a basic if else statement\n",
    "data = 1\n",
    "\n",
    "if data:\n",
    "    print(\"not zero\")\n",
    "else:\n",
    "    print(\"zero\")"
   ]
  },
  {
   "cell_type": "code",
   "execution_count": 14,
   "id": "72a71fb6-c710-4ee9-b60a-9358c2cf7853",
   "metadata": {},
   "outputs": [
    {
     "data": {
      "text/plain": [
       "'not zero'"
      ]
     },
     "execution_count": 14,
     "metadata": {},
     "output_type": "execute_result"
    }
   ],
   "source": [
    "#(True) if (condition) else (False)\n",
    "data = 1\n",
    "result = \"not zero\" if data else \"zero\"\n",
    "result"
   ]
  },
  {
   "cell_type": "markdown",
   "id": "4b874793-030c-4fef-bca2-85d6ae1ac914",
   "metadata": {},
   "source": [
    "### 3. List Comprehension"
   ]
  },
  {
   "cell_type": "code",
   "execution_count": 16,
   "id": "cf083dc6-8344-41fa-9233-2be1df2d8225",
   "metadata": {},
   "outputs": [
    {
     "data": {
      "text/plain": [
       "[0, 1, 4, 9]"
      ]
     },
     "execution_count": 16,
     "metadata": {},
     "output_type": "execute_result"
    }
   ],
   "source": [
    "#ex1) basic for loop\n",
    "ls = [0, 1, 2, 3]\n",
    "result = []\n",
    "\n",
    "for data in ls:\n",
    "    result.append(data ** 2)\n",
    "    \n",
    "result"
   ]
  },
  {
   "cell_type": "code",
   "execution_count": 17,
   "id": "17fdb442-c5a3-4bab-b322-8e099968609e",
   "metadata": {},
   "outputs": [
    {
     "data": {
      "text/plain": [
       "[0, 1, 4, 9]"
      ]
     },
     "execution_count": 17,
     "metadata": {},
     "output_type": "execute_result"
    }
   ],
   "source": [
    "#ex1) list comprehension\n",
    "[data ** 2 for data in ls]"
   ]
  },
  {
   "cell_type": "code",
   "execution_count": 22,
   "id": "8a454580-203f-42c6-8b47-00ce50b1de3b",
   "metadata": {},
   "outputs": [
    {
     "data": {
      "text/plain": [
       "['odd', 'even', 'odd', 'even', 'odd', 'even']"
      ]
     },
     "execution_count": 22,
     "metadata": {},
     "output_type": "execute_result"
    }
   ],
   "source": [
    "#ex2) basic for loop\n",
    "ls = [1, 2, 3, 4, 5, 6]\n",
    "\n",
    "[\"odd\" if data % 2 else \"even\" for data in ls]"
   ]
  },
  {
   "cell_type": "code",
   "execution_count": 23,
   "id": "bdcbf1a6-f92f-453c-8590-c5db80a36617",
   "metadata": {},
   "outputs": [
    {
     "data": {
      "text/plain": [
       "['odd', 'even']"
      ]
     },
     "execution_count": 23,
     "metadata": {},
     "output_type": "execute_result"
    }
   ],
   "source": [
    "#add filtering at the end of the statement\n",
    "[\"odd\" if data % 2 else \"even\" for data in ls if data < 3]"
   ]
  },
  {
   "cell_type": "markdown",
   "id": "700449e7-eb53-42f8-b6c1-955fe27c3391",
   "metadata": {},
   "source": [
    "### 4. Parameters and Arguments"
   ]
  },
  {
   "cell_type": "code",
   "execution_count": 24,
   "id": "93c3c495-9db4-4e82-af62-04844de2f59f",
   "metadata": {},
   "outputs": [],
   "source": [
    "#you can set default parameters\n",
    "def plus(num1, num2 = 10, num3 = 20):\n",
    "    print(num1 + num2 + num3)"
   ]
  },
  {
   "cell_type": "code",
   "execution_count": 29,
   "id": "797bcc8a-bc2a-421c-852b-641b3bfdefb3",
   "metadata": {},
   "outputs": [
    {
     "name": "stdout",
     "output_type": "stream",
     "text": [
      "30\n"
     ]
    }
   ],
   "source": [
    "#because of the default parameters, \n",
    "#you can simply input arguments for num1 parameter\n",
    "plus(0)\n",
    "#same as plus(num1 = 0), a process known as keyword argument"
   ]
  },
  {
   "cell_type": "code",
   "execution_count": 30,
   "id": "4bf746cc-dfb5-4b2e-a136-69de9da5d159",
   "metadata": {},
   "outputs": [
    {
     "name": "stdout",
     "output_type": "stream",
     "text": [
      "3\n"
     ]
    }
   ],
   "source": [
    "plus(1, 1, 1)"
   ]
  },
  {
   "cell_type": "code",
   "execution_count": 31,
   "id": "6bfbffa0-dab0-47d0-9f6e-a194d4ae4735",
   "metadata": {},
   "outputs": [
    {
     "name": "stdout",
     "output_type": "stream",
     "text": [
      "61\n"
     ]
    }
   ],
   "source": [
    "plus(1, num3 = 50)"
   ]
  },
  {
   "cell_type": "markdown",
   "id": "59a88d89-1634-4193-af6d-e3c735eb653a",
   "metadata": {},
   "source": [
    "### 5. Return"
   ]
  },
  {
   "cell_type": "code",
   "execution_count": 33,
   "id": "7e7a6c2c-479e-4321-bf08-2d73ad6a3b9a",
   "metadata": {},
   "outputs": [
    {
     "data": {
      "text/plain": [
       "3"
      ]
     },
     "execution_count": 33,
     "metadata": {},
     "output_type": "execute_result"
    }
   ],
   "source": [
    "#define a function\n",
    "def plus(num1, num2):\n",
    "    return num1 + num2\n",
    "\n",
    "#store result of a function call\n",
    "result = plus(1, 2)\n",
    "result"
   ]
  },
  {
   "cell_type": "markdown",
   "id": "c0afa70e-24d2-4658-9573-a6ca99d165a1",
   "metadata": {},
   "source": [
    "* Not every built-in function has return set as default"
   ]
  },
  {
   "cell_type": "code",
   "execution_count": null,
   "id": "e781c311-303c-442e-8cac-b193c5a9e646",
   "metadata": {},
   "outputs": [],
   "source": [
    "data1 = \"python\"\n",
    "result1 = data1.upper()\n",
    "print(result1)\n",
    "\n",
    "data2 = [3, 1, 2]\n",
    "result2 = data2.sort()\n",
    "print(result2)"
   ]
  },
  {
   "cell_type": "markdown",
   "id": "f8f36d2b-910c-4492-a320-52944dc009e2",
   "metadata": {},
   "source": [
    "* For example, sort() function doesn't return any value, but instead sorts and saves the input object in its own"
   ]
  },
  {
   "cell_type": "code",
   "execution_count": 36,
   "id": "1cecf8af-e243-4433-b4a6-717a1647b1cb",
   "metadata": {},
   "outputs": [
    {
     "data": {
      "text/plain": [
       "[1, 2, 3]"
      ]
     },
     "execution_count": 36,
     "metadata": {},
     "output_type": "execute_result"
    }
   ],
   "source": [
    "data2"
   ]
  },
  {
   "cell_type": "markdown",
   "id": "a64dddad-780a-45ef-a5d8-2f414decce7e",
   "metadata": {},
   "source": [
    "* If the return code runs in a function, the function process ends automatically"
   ]
  },
  {
   "cell_type": "code",
   "execution_count": 38,
   "id": "c7cc1c05-3a0c-4063-a142-c21ffed9471d",
   "metadata": {},
   "outputs": [],
   "source": [
    "#function quits after processing return statement\n",
    "def echo(msg):\n",
    "    if msg == \"quit\":\n",
    "        return\n",
    "    print(msg)"
   ]
  },
  {
   "cell_type": "code",
   "execution_count": 39,
   "id": "4478aece-415d-48ce-846b-1098bf4ab259",
   "metadata": {},
   "outputs": [
    {
     "name": "stdout",
     "output_type": "stream",
     "text": [
      "python\n"
     ]
    }
   ],
   "source": [
    "echo(\"python\")"
   ]
  },
  {
   "cell_type": "code",
   "execution_count": 41,
   "id": "1f5a34de-2e45-4959-b10b-c7b89c36a292",
   "metadata": {},
   "outputs": [],
   "source": [
    "echo(\"quit\")"
   ]
  },
  {
   "cell_type": "markdown",
   "id": "fced6667-c1f8-4d9c-87b8-6149c85ccc1f",
   "metadata": {},
   "source": [
    "### 6. Args and Kwargs"
   ]
  },
  {
   "cell_type": "code",
   "execution_count": 43,
   "id": "7f2b2b55-807e-4def-8597-9f38aa7e1f13",
   "metadata": {},
   "outputs": [],
   "source": [
    "#define a function\n",
    "def plus(*args, **kwargs):\n",
    "    print(type(args), args)\n",
    "    print(type(kwargs), kwargs)\n",
    "    return sum(args) + sum(kwargs.values())"
   ]
  },
  {
   "cell_type": "code",
   "execution_count": 44,
   "id": "1cea6d89-e257-4b5a-a3e7-5046ea182aa6",
   "metadata": {},
   "outputs": [
    {
     "name": "stdout",
     "output_type": "stream",
     "text": [
      "<class 'tuple'> (1, 2, 3, 4, 5)\n",
      "<class 'dict'> {'num1': 6, 'num2': 7}\n"
     ]
    },
    {
     "data": {
      "text/plain": [
       "28"
      ]
     },
     "execution_count": 44,
     "metadata": {},
     "output_type": "execute_result"
    }
   ],
   "source": [
    "plus(1, 2, 3, 4, 5, num1 = 6, num2 = 7)"
   ]
  },
  {
   "cell_type": "markdown",
   "id": "a2c1bc54-be0b-4cd4-8dc9-737d21a25d9d",
   "metadata": {},
   "source": [
    "* When you have a list of values you want to pass into a function, you can add an asterisk in front of the list of values as parameters of the function"
   ]
  },
  {
   "cell_type": "code",
   "execution_count": 49,
   "id": "7f7795f7-9bb8-402a-a57a-26f8f8d96067",
   "metadata": {},
   "outputs": [
    {
     "data": {
      "text/plain": [
       "6"
      ]
     },
     "execution_count": 49,
     "metadata": {},
     "output_type": "execute_result"
    }
   ],
   "source": [
    "def func(num1, num2=10, num3=20):\n",
    "    return num1 + num2 + num3\n",
    "\n",
    "data_list = [1, 2, 3]\n",
    "func(*data_list) #this is equivalent to func(1, 2, 3)\n",
    "# func(data) #this is equivalent to func([1, 2, 3])"
   ]
  },
  {
   "cell_type": "code",
   "execution_count": 51,
   "id": "d8e744cd-28f3-4600-a1c0-e7e04f7bdcee",
   "metadata": {},
   "outputs": [
    {
     "name": "stdout",
     "output_type": "stream",
     "text": [
      "<class 'tuple'> (1, 2, 3)\n",
      "<class 'dict'> {'num2': 100, 'num3': 200}\n"
     ]
    },
    {
     "data": {
      "text/plain": [
       "306"
      ]
     },
     "execution_count": 51,
     "metadata": {},
     "output_type": "execute_result"
    }
   ],
   "source": [
    "#using list and dictionary as arguments and keyword arguments\n",
    "data_dict = {\n",
    "    \"num2\": 100,\n",
    "    \"num3\": 200,\n",
    "}\n",
    "\n",
    "plus(*data_list, **data_dict) # func(1, num2=100, num3=200)"
   ]
  },
  {
   "cell_type": "code",
   "execution_count": null,
   "id": "52c161f5-5a5f-498a-946a-24fc2b30fc68",
   "metadata": {},
   "outputs": [],
   "source": []
  }
 ],
 "metadata": {
  "kernelspec": {
   "display_name": "Python 3",
   "language": "python",
   "name": "python3"
  },
  "language_info": {
   "codemirror_mode": {
    "name": "ipython",
    "version": 3
   },
   "file_extension": ".py",
   "mimetype": "text/x-python",
   "name": "python",
   "nbconvert_exporter": "python",
   "pygments_lexer": "ipython3",
   "version": "3.8.8"
  }
 },
 "nbformat": 4,
 "nbformat_minor": 5
}
