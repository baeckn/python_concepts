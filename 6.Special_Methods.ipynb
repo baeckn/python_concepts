{
 "cells": [
  {
   "cell_type": "markdown",
   "id": "cf24ba72-6c97-4bcb-8c6d-fde417d74f1f",
   "metadata": {},
   "source": [
    "### Magic(Special) Method\n",
    "\n",
    "There are three big types of special methods\n",
    "\n",
    "- compare\n",
    "    - `__eq__` : ==\n",
    "    - `__ne__` : !=\n",
    "    - `__lt__` : <\n",
    "- calculate\n",
    "    - `__add__` : + \n",
    "    - `__sub__` : -\n",
    "- `__repr__` : 객체의 내용을 출력(개발자용)\n",
    "- `__str__`  : 객체의 내용을 출력"
   ]
  },
  {
   "cell_type": "code",
   "execution_count": 1,
   "id": "b8250fe0-23b7-4c32-92a9-f33909cee77f",
   "metadata": {},
   "outputs": [
    {
     "data": {
      "text/plain": [
       "True"
      ]
     },
     "execution_count": 1,
     "metadata": {},
     "output_type": "execute_result"
    }
   ],
   "source": [
    "#the two commands below are equivalent\n",
    "\"test\" == \"test\"\n",
    "\"test\".__eq__(\"test\")"
   ]
  },
  {
   "cell_type": "code",
   "execution_count": 2,
   "id": "58d056c6-d3ce-45e2-be28-a3f05d42aa89",
   "metadata": {},
   "outputs": [
    {
     "name": "stdout",
     "output_type": "stream",
     "text": [
      "3\n",
      "12\n"
     ]
    }
   ],
   "source": [
    "#depending on your class instances, same special methods product different outcomes\n",
    "print(1 + 2)\n",
    "print(\"1\" + \"2\")"
   ]
  },
  {
   "cell_type": "markdown",
   "id": "c47d7441-7972-4d23-922c-60cbcc218e6a",
   "metadata": {},
   "source": [
    "### 1.1 Basic Concepts"
   ]
  },
  {
   "cell_type": "code",
   "execution_count": 21,
   "id": "02c8d4bf-acc4-4017-97bf-dc548bde5c1a",
   "metadata": {},
   "outputs": [],
   "source": [
    "class Txt:\n",
    "    def __init__(self, txt):\n",
    "        self.txt = txt"
   ]
  },
  {
   "cell_type": "code",
   "execution_count": 22,
   "id": "08179ffb-feda-4be3-860d-49863ac8c0b1",
   "metadata": {},
   "outputs": [],
   "source": [
    "t1 = Txt(\"python\")\n",
    "t2 = Txt(\"Python\")\n",
    "t3 = t1\n",
    "t4 = Txt(\"python\")"
   ]
  },
  {
   "cell_type": "code",
   "execution_count": 23,
   "id": "608d3d17-1e7f-432b-90af-ff626a6ad637",
   "metadata": {},
   "outputs": [
    {
     "data": {
      "text/plain": [
       "(False, True, False, False)"
      ]
     },
     "execution_count": 23,
     "metadata": {},
     "output_type": "execute_result"
    }
   ],
   "source": [
    "#t1, t3, t4 are all python, but in the comparison operations below\n",
    "#only t1 and t3 are equal\n",
    "t1 == t2, t1 == t3, t2 == t3, t1 == t4"
   ]
  },
  {
   "cell_type": "markdown",
   "id": "b7cd9b93-b392-4aca-9f08-53bf61694349",
   "metadata": {},
   "source": [
    "* Python automatically calls the **\\__eq__** method of a class when you use the == operator to compare the instances of the class\n",
    "* By default, Python uses the is operator if you don’t provide a specific implementation for the **\\__eq__** method\n",
    "* t1, t3, and t4 are all **Python**, but not all of them necessarily share the same memory address\n",
    "    * Only t1 and t3 do, not t4"
   ]
  },
  {
   "cell_type": "code",
   "execution_count": 24,
   "id": "0a15f05a-250a-43a7-81d6-6db473e4ff46",
   "metadata": {},
   "outputs": [
    {
     "name": "stdout",
     "output_type": "stream",
     "text": [
      "t1: 140257951347760\n",
      "t2: 140257951349728\n",
      "t3: 140257951347760\n",
      "t4: 140257951348912\n"
     ]
    }
   ],
   "source": [
    "print(\"t1: \" + str(id(t1)))\n",
    "print(\"t2: \" + str(id(t2)))\n",
    "print(\"t3: \" + str(id(t3)))\n",
    "print(\"t4: \" + str(id(t4)))"
   ]
  },
  {
   "cell_type": "code",
   "execution_count": 25,
   "id": "d9cbf097-f4d5-4286-b467-32e12ae173a3",
   "metadata": {},
   "outputs": [
    {
     "data": {
      "text/plain": [
       "(True, False)"
      ]
     },
     "execution_count": 25,
     "metadata": {},
     "output_type": "execute_result"
    }
   ],
   "source": [
    "t1 is t3, t1 is t4"
   ]
  },
  {
   "cell_type": "markdown",
   "id": "d2db13a6-307c-40fa-989f-a236a7f39571",
   "metadata": {},
   "source": [
    "* Also, **\\__repr__** and **\\__str__** special methods act differently by default\n",
    "    * **\\__repr__**: returns memory address of the object in iPython environment\n",
    "    * **\\__str__**: actually prints the value"
   ]
  },
  {
   "cell_type": "code",
   "execution_count": 26,
   "id": "dd3d4c15-fd09-4793-8c5a-744fc6185876",
   "metadata": {},
   "outputs": [
    {
     "data": {
      "text/plain": [
       "<__main__.Txt at 0x7f90595df430>"
      ]
     },
     "execution_count": 26,
     "metadata": {},
     "output_type": "execute_result"
    }
   ],
   "source": [
    "#uses __repr__ method\n",
    "t1"
   ]
  },
  {
   "cell_type": "code",
   "execution_count": 27,
   "id": "ddc9c8f0-4885-421d-80e2-b450b372049a",
   "metadata": {},
   "outputs": [
    {
     "name": "stdout",
     "output_type": "stream",
     "text": [
      "<__main__.Txt object at 0x7f90595df430>\n"
     ]
    }
   ],
   "source": [
    "#uses __str__ method\n",
    "print(t1)"
   ]
  },
  {
   "cell_type": "markdown",
   "id": "d40492d2-9682-4cc9-b0db-5fe2545cebc1",
   "metadata": {},
   "source": [
    "### 1.2 Example\n",
    "\n",
    "* Modifying **\\__eq__** special method to evaluate if the values are identical, instead of memory address\n",
    "* Modify **\\__repr__** and **\\__str__** methods to customize print values"
   ]
  },
  {
   "cell_type": "code",
   "execution_count": 28,
   "id": "4ec039c0-2646-4105-82ee-cee65cbbebd0",
   "metadata": {},
   "outputs": [],
   "source": [
    "class Txt:\n",
    "    def __init__(self, txt):\n",
    "        self.txt = txt\n",
    "            \n",
    "    def __eq__(self, txt_obj):\n",
    "        \"\"\"\n",
    "        lower case values being compared\n",
    "        \"\"\"\n",
    "        return self.txt.lower() == txt_obj.txt.lower()\n",
    "    \n",
    "    def __repr__(self):\n",
    "        return \"Txt(txt={})\".format(self.txt)\n",
    "    \n",
    "    def __str__(self):\n",
    "        return self.txt"
   ]
  },
  {
   "cell_type": "code",
   "execution_count": 29,
   "id": "5f9cc2f7-a258-485b-a51d-9a0bf924420d",
   "metadata": {},
   "outputs": [
    {
     "data": {
      "text/plain": [
       "(True, True, True, True)"
      ]
     },
     "execution_count": 29,
     "metadata": {},
     "output_type": "execute_result"
    }
   ],
   "source": [
    "t1 = Txt(\"python\")\n",
    "t2 = Txt(\"Python\")\n",
    "t3 = t1\n",
    "t4 = Txt(\"python\")\n",
    "\n",
    "#now the __eq__ special method compares values\n",
    "t1 == t2, t1 == t3, t2 == t3, t1 == t4"
   ]
  },
  {
   "cell_type": "code",
   "execution_count": 30,
   "id": "e865cd62-376b-40a2-ad97-1ca479a1a22f",
   "metadata": {},
   "outputs": [
    {
     "data": {
      "text/plain": [
       "Txt(txt=python)"
      ]
     },
     "execution_count": 30,
     "metadata": {},
     "output_type": "execute_result"
    }
   ],
   "source": [
    "#uses __repr__\n",
    "t1"
   ]
  },
  {
   "cell_type": "code",
   "execution_count": 31,
   "id": "c3833108-a901-45e9-a66d-7d5d7c8b6d72",
   "metadata": {},
   "outputs": [
    {
     "name": "stdout",
     "output_type": "stream",
     "text": [
      "python\n"
     ]
    }
   ],
   "source": [
    "#uses 출력 __str__\n",
    "print(t1)"
   ]
  },
  {
   "cell_type": "markdown",
   "id": "fc4caa0d-cf30-42da-be65-f43a6b85ede8",
   "metadata": {},
   "source": [
    "### 2. Additional Concepts"
   ]
  },
  {
   "cell_type": "markdown",
   "id": "12ce1cb5-478d-4c06-aa53-22a83ae9091a",
   "metadata": {},
   "source": [
    "#### 2.1 Problem\n",
    "\n",
    "1. Unable to add two integer objects created from **Integer** class\n",
    "2. Print actual values of instances by using **\\__repr__** methods\n",
    "3. Print actual values of instances by using **\\__str__** methods\n",
    "4. **\\__lt__** method requires string objects, returns error if we try to compare integer values"
   ]
  },
  {
   "cell_type": "code",
   "execution_count": 92,
   "id": "8f3e6555-079a-4e71-a22a-0c33dd1256de",
   "metadata": {},
   "outputs": [],
   "source": [
    "# Integer object\n",
    "class Integer:\n",
    "    \n",
    "    def __init__(self, number):\n",
    "        self.number = number"
   ]
  },
  {
   "cell_type": "code",
   "execution_count": 93,
   "id": "328301cc-4593-4bcd-ba37-901990da52c4",
   "metadata": {},
   "outputs": [
    {
     "data": {
      "text/plain": [
       "1"
      ]
     },
     "execution_count": 93,
     "metadata": {},
     "output_type": "execute_result"
    }
   ],
   "source": [
    "#make instances\n",
    "num1 = Integer(1)\n",
    "num2 = Integer(2)\n",
    "\n",
    "num1.number"
   ]
  },
  {
   "cell_type": "code",
   "execution_count": 94,
   "id": "f3ff8e26-0ccd-447a-98b8-6af0e527ef27",
   "metadata": {},
   "outputs": [
    {
     "ename": "TypeError",
     "evalue": "unsupported operand type(s) for +: 'Integer' and 'Integer'",
     "output_type": "error",
     "traceback": [
      "\u001b[0;31m---------------------------------------------------------------------------\u001b[0m",
      "\u001b[0;31mTypeError\u001b[0m                                 Traceback (most recent call last)",
      "\u001b[0;32m<ipython-input-94-e176fc5f339c>\u001b[0m in \u001b[0;36m<module>\u001b[0;34m\u001b[0m\n\u001b[1;32m      1\u001b[0m \u001b[0;31m#problem 1\u001b[0m\u001b[0;34m\u001b[0m\u001b[0;34m\u001b[0m\u001b[0;34m\u001b[0m\u001b[0m\n\u001b[0;32m----> 2\u001b[0;31m \u001b[0mnum1\u001b[0m \u001b[0;34m+\u001b[0m \u001b[0mnum2\u001b[0m\u001b[0;34m\u001b[0m\u001b[0;34m\u001b[0m\u001b[0m\n\u001b[0m",
      "\u001b[0;31mTypeError\u001b[0m: unsupported operand type(s) for +: 'Integer' and 'Integer'"
     ]
    }
   ],
   "source": [
    "#problem 1\n",
    "num1 + num2"
   ]
  },
  {
   "cell_type": "code",
   "execution_count": 95,
   "id": "f5871f81-fb74-4653-a86e-252b33a23326",
   "metadata": {},
   "outputs": [
    {
     "data": {
      "text/plain": [
       "<__main__.Integer at 0x7f905a9b42b0>"
      ]
     },
     "execution_count": 95,
     "metadata": {},
     "output_type": "execute_result"
    }
   ],
   "source": [
    "#problem 2\n",
    "num1"
   ]
  },
  {
   "cell_type": "code",
   "execution_count": 96,
   "id": "231d092a-9a59-4edd-8f9a-9fb4f5b80c2d",
   "metadata": {},
   "outputs": [
    {
     "name": "stdout",
     "output_type": "stream",
     "text": [
      "<__main__.Integer object at 0x7f905a9b42b0>\n"
     ]
    }
   ],
   "source": [
    "#problem 3\n",
    "print(num1)"
   ]
  },
  {
   "cell_type": "code",
   "execution_count": 98,
   "id": "111047c3-52e2-4dc4-8623-646bcb269193",
   "metadata": {},
   "outputs": [
    {
     "ename": "TypeError",
     "evalue": "'<' not supported between instances of 'Integer' and 'Integer'",
     "output_type": "error",
     "traceback": [
      "\u001b[0;31m---------------------------------------------------------------------------\u001b[0m",
      "\u001b[0;31mTypeError\u001b[0m                                 Traceback (most recent call last)",
      "\u001b[0;32m<ipython-input-98-fe005cb7524a>\u001b[0m in \u001b[0;36m<module>\u001b[0;34m\u001b[0m\n\u001b[1;32m      1\u001b[0m \u001b[0;31m#problem 4\u001b[0m\u001b[0;34m\u001b[0m\u001b[0;34m\u001b[0m\u001b[0;34m\u001b[0m\u001b[0m\n\u001b[0;32m----> 2\u001b[0;31m \u001b[0mnum1\u001b[0m \u001b[0;34m<\u001b[0m \u001b[0mnum2\u001b[0m\u001b[0;34m\u001b[0m\u001b[0;34m\u001b[0m\u001b[0m\n\u001b[0m",
      "\u001b[0;31mTypeError\u001b[0m: '<' not supported between instances of 'Integer' and 'Integer'"
     ]
    }
   ],
   "source": [
    "#problem 4\n",
    "num1 < num2"
   ]
  },
  {
   "cell_type": "code",
   "execution_count": 99,
   "id": "4e71da9f-438f-44d9-8f1d-b6b8ec0a2355",
   "metadata": {},
   "outputs": [
    {
     "data": {
      "text/plain": [
       "True"
      ]
     },
     "execution_count": 99,
     "metadata": {},
     "output_type": "execute_result"
    }
   ],
   "source": [
    "#problem 4\n",
    "str(num1) < str(num2)"
   ]
  },
  {
   "cell_type": "markdown",
   "id": "7875c3f9-02e9-4845-96d3-053235a8327d",
   "metadata": {},
   "source": [
    "#### 2.2 Solution"
   ]
  },
  {
   "cell_type": "code",
   "execution_count": 100,
   "id": "5fa95d40-a648-44bc-9504-7b7336edc911",
   "metadata": {},
   "outputs": [],
   "source": [
    "#make class\n",
    "class Integer:\n",
    "    \n",
    "    def __init__(self, number):\n",
    "        self.number = number\n",
    "    \n",
    "    def __add__(self, obj):\n",
    "        return self.number + obj.number\n",
    "    \n",
    "    def __str__(self):\n",
    "        \"\"\"\n",
    "        returns must be strings\n",
    "        \"\"\"\n",
    "        return str(self.number)\n",
    "    \n",
    "    def __repr__(self):\n",
    "        \"\"\"\n",
    "        returns must be strings\n",
    "        \"\"\"\n",
    "        return str(self.number)\n",
    "    \n",
    "    def __lt__(self, obj):\n",
    "        return self.number < obj.number"
   ]
  },
  {
   "cell_type": "code",
   "execution_count": 101,
   "id": "14426dc9-bb40-4533-906f-6691f4e25b84",
   "metadata": {},
   "outputs": [
    {
     "data": {
      "text/plain": [
       "1"
      ]
     },
     "execution_count": 101,
     "metadata": {},
     "output_type": "execute_result"
    }
   ],
   "source": [
    "#make instances\n",
    "num1 = Integer(1)\n",
    "num2 = Integer(2)\n",
    "\n",
    "num1.number"
   ]
  },
  {
   "cell_type": "code",
   "execution_count": 102,
   "id": "b511770c-f07f-40c9-afbf-d99d2ae4ce0b",
   "metadata": {},
   "outputs": [
    {
     "data": {
      "text/plain": [
       "3"
      ]
     },
     "execution_count": 102,
     "metadata": {},
     "output_type": "execute_result"
    }
   ],
   "source": [
    "#solution to problem 1: additional operation\n",
    "num1 + num2"
   ]
  },
  {
   "cell_type": "code",
   "execution_count": 103,
   "id": "1e8801ee-da8e-427c-9eea-48643a315e9c",
   "metadata": {},
   "outputs": [
    {
     "data": {
      "text/plain": [
       "1"
      ]
     },
     "execution_count": 103,
     "metadata": {},
     "output_type": "execute_result"
    }
   ],
   "source": [
    "#solution to problem 2\n",
    "num1"
   ]
  },
  {
   "cell_type": "code",
   "execution_count": 104,
   "id": "ba733762-dd10-4977-bea8-1fb6d9b5a363",
   "metadata": {},
   "outputs": [
    {
     "name": "stdout",
     "output_type": "stream",
     "text": [
      "1\n"
     ]
    }
   ],
   "source": [
    "#solution to problem 2\n",
    "print(num1)"
   ]
  },
  {
   "cell_type": "code",
   "execution_count": 105,
   "id": "328760a8-f819-49be-9c81-a26478cfb4ea",
   "metadata": {},
   "outputs": [
    {
     "data": {
      "text/plain": [
       "True"
      ]
     },
     "execution_count": 105,
     "metadata": {},
     "output_type": "execute_result"
    }
   ],
   "source": [
    "num1 < num2"
   ]
  },
  {
   "cell_type": "code",
   "execution_count": null,
   "id": "6cdc5634-7288-4f01-b774-3dfc7a4cbfc8",
   "metadata": {},
   "outputs": [],
   "source": []
  }
 ],
 "metadata": {
  "kernelspec": {
   "display_name": "Python 3",
   "language": "python",
   "name": "python3"
  },
  "language_info": {
   "codemirror_mode": {
    "name": "ipython",
    "version": 3
   },
   "file_extension": ".py",
   "mimetype": "text/x-python",
   "name": "python",
   "nbconvert_exporter": "python",
   "pygments_lexer": "ipython3",
   "version": "3.8.8"
  }
 },
 "nbformat": 4,
 "nbformat_minor": 5
}
