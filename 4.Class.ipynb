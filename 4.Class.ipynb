{
 "cells": [
  {
   "cell_type": "markdown",
   "id": "42984ade-e5ab-408a-8d73-5620514d7f82",
   "metadata": {},
   "source": [
    "# Class\n",
    "\n",
    "* A collection of variables and functions (called methods)\n",
    "* Is an object a class?\n",
    "    * An object is an **instance** of a class\n",
    "    * When a class is created, no memory is allocated\n",
    "    * When an object is created, however, objects are allocated memory space"
   ]
  },
  {
   "cell_type": "markdown",
   "id": "1dde13cf-53cc-4982-89c1-f3fd79f06b5e",
   "metadata": {},
   "source": [
    "### 1. Basic Syntax"
   ]
  },
  {
   "cell_type": "code",
   "execution_count": 2,
   "id": "2a00fffd-11af-4015-9b17-dac1bae5e033",
   "metadata": {},
   "outputs": [],
   "source": [
    "#class declaration\n",
    "class Calculator:\n",
    "    \n",
    "    num1 = 1\n",
    "    num2 = 2\n",
    "    \n",
    "    def plus(self):\n",
    "        return self.num1 + self.num2\n",
    "    \n",
    "    def minus(self):\n",
    "        return self.num1 - self.num2"
   ]
  },
  {
   "cell_type": "code",
   "execution_count": 7,
   "id": "c8b5142e-1d83-425c-b9fc-5161b9d24610",
   "metadata": {},
   "outputs": [
    {
     "data": {
      "text/plain": [
       "<__main__.Calculator at 0x7fa0774a12e0>"
      ]
     },
     "execution_count": 7,
     "metadata": {},
     "output_type": "execute_result"
    }
   ],
   "source": [
    "#create an instance\n",
    "calc = Calculator()\n",
    "calc"
   ]
  },
  {
   "cell_type": "code",
   "execution_count": 8,
   "id": "a5db2cd0-60b1-47ee-ad25-ac9389fbef5e",
   "metadata": {},
   "outputs": [
    {
     "data": {
      "text/plain": [
       "(1, 2, 3, -1)"
      ]
     },
     "execution_count": 8,
     "metadata": {},
     "output_type": "execute_result"
    }
   ],
   "source": [
    "#retrieve variables and execute functions within class\n",
    "calc.num1, calc.num2, calc.plus(), calc.minus()"
   ]
  },
  {
   "cell_type": "markdown",
   "id": "a7f73302-3a33-4ce8-b912-daffcbf22141",
   "metadata": {},
   "source": [
    "### 2. Object-oriented Programming\n",
    "\n",
    "* Applying real world blueprint into a programmable code\n",
    "* Blueprint (class) -> Real object (object)"
   ]
  },
  {
   "cell_type": "code",
   "execution_count": 13,
   "id": "e32b3df6-0f49-4e73-8ac3-9486b74195a9",
   "metadata": {},
   "outputs": [
    {
     "data": {
      "text/plain": [
       "'PYTHON'"
      ]
     },
     "execution_count": 13,
     "metadata": {},
     "output_type": "execute_result"
    }
   ],
   "source": [
    "#creating a string object and executing a method\n",
    "#this method is set up in a way to \"return\" the execution result\n",
    "obj = \"python\"\n",
    "obj.upper()"
   ]
  },
  {
   "cell_type": "code",
   "execution_count": 14,
   "id": "56a1fc15-6b9c-4bb0-acec-8ac805908c58",
   "metadata": {},
   "outputs": [],
   "source": [
    "#sort() method within an instance of a list doesn't \"return\" a sorted object,\n",
    "#but sorts the original data\n",
    "ls = [1, 3, 2]\n",
    "ls.sort()"
   ]
  },
  {
   "cell_type": "code",
   "execution_count": 16,
   "id": "df2c2075-6f2d-4e41-b946-76f0e71a656e",
   "metadata": {},
   "outputs": [
    {
     "data": {
      "text/plain": [
       "['__class__',\n",
       " '__delattr__',\n",
       " '__dict__',\n",
       " '__dir__',\n",
       " '__doc__',\n",
       " '__eq__',\n",
       " '__format__',\n",
       " '__ge__',\n",
       " '__getattribute__',\n",
       " '__gt__',\n",
       " '__hash__',\n",
       " '__init__',\n",
       " '__init_subclass__',\n",
       " '__le__',\n",
       " '__lt__',\n",
       " '__module__',\n",
       " '__ne__',\n",
       " '__new__',\n",
       " '__reduce__',\n",
       " '__reduce_ex__',\n",
       " '__repr__',\n",
       " '__setattr__',\n",
       " '__sizeof__',\n",
       " '__str__',\n",
       " '__subclasshook__',\n",
       " '__weakref__',\n",
       " 'minus',\n",
       " 'num1',\n",
       " 'num2',\n",
       " 'plus']"
      ]
     },
     "execution_count": 16,
     "metadata": {},
     "output_type": "execute_result"
    }
   ],
   "source": [
    "#automatically created functions/methods\n",
    "dir(calc)"
   ]
  },
  {
   "cell_type": "markdown",
   "id": "a0422dc8-a7b3-4c31-bc36-edbf3ed48f68",
   "metadata": {},
   "source": [
    "### 3. Constructor (생성자)\n",
    "\n",
    "* Executed when an instance of a class is created\n",
    "* If a Constructor takes arguments, parameters must be provided when creating an instance of a class"
   ]
  },
  {
   "cell_type": "code",
   "execution_count": 17,
   "id": "fc13fa9c-c192-446f-b8e3-2ac37f880604",
   "metadata": {},
   "outputs": [],
   "source": [
    "class Calculator:\n",
    "    \n",
    "    #this constructore requires parameters upon instance creation\n",
    "    def __init__(self, num1, num2=10):\n",
    "        self.num1 = num1\n",
    "        self.num2 = num2\n",
    "        \n",
    "    def plus(self):\n",
    "        return self.num1 + self.num2\n",
    "    \n",
    "    def minus(self):\n",
    "        return self.num1 - self.num2"
   ]
  },
  {
   "cell_type": "code",
   "execution_count": 18,
   "id": "2f3281cb-c1e0-44df-89f7-d37bb01ba39a",
   "metadata": {},
   "outputs": [
    {
     "ename": "TypeError",
     "evalue": "__init__() missing 1 required positional argument: 'num1'",
     "output_type": "error",
     "traceback": [
      "\u001b[0;31m---------------------------------------------------------------------------\u001b[0m",
      "\u001b[0;31mTypeError\u001b[0m                                 Traceback (most recent call last)",
      "\u001b[0;32m<ipython-input-18-1a408b52f84d>\u001b[0m in \u001b[0;36m<module>\u001b[0;34m\u001b[0m\n\u001b[0;32m----> 1\u001b[0;31m \u001b[0mCalculator\u001b[0m\u001b[0;34m(\u001b[0m\u001b[0;34m)\u001b[0m\u001b[0;34m\u001b[0m\u001b[0;34m\u001b[0m\u001b[0m\n\u001b[0m",
      "\u001b[0;31mTypeError\u001b[0m: __init__() missing 1 required positional argument: 'num1'"
     ]
    }
   ],
   "source": [
    "#error because no parameters were given\n",
    "Calculator()"
   ]
  },
  {
   "cell_type": "code",
   "execution_count": 21,
   "id": "1f24fe5c-6d5d-45bf-9609-b843a614fcf9",
   "metadata": {},
   "outputs": [
    {
     "data": {
      "text/plain": [
       "13"
      ]
     },
     "execution_count": 21,
     "metadata": {},
     "output_type": "execute_result"
    }
   ],
   "source": [
    "calc1 = Calculator(3)\n",
    "calc1.plus()"
   ]
  },
  {
   "cell_type": "markdown",
   "id": "ebe531a1-43b5-4073-961c-dc159c5aac20",
   "metadata": {},
   "source": [
    "### 4. Practice Example\n",
    "\n",
    "* Building Starcraft Marine class\n",
    "    * Variables\n",
    "        * Health: 40\n",
    "        * Attack power: 5\n",
    "    * Functions/methods\n",
    "        * Attack()\n",
    "* Create two instances (Marine1, Marine2) and make Marine1 attack Marine2\n",
    "* If an instance's health is 0, print \"died\""
   ]
  },
  {
   "cell_type": "code",
   "execution_count": 22,
   "id": "3ea39ef2-7f2d-437d-a26b-d09a9ebabcb9",
   "metadata": {},
   "outputs": [],
   "source": [
    "class Marine:\n",
    "    \n",
    "    def __init__(self, max_health = 40, attack_pow = 5):\n",
    "        self.health = max_health\n",
    "        self.max_health = max_health\n",
    "        self.attack_pow = attack_pow\n",
    "    \n",
    "    def attack(self, unit):\n",
    "        unit.health -= self.attack_pow\n",
    "        if unit.health <= 0:\n",
    "            unit.health = 0\n",
    "            print(\"사망\")\n",
    "        return unit.health"
   ]
  },
  {
   "cell_type": "code",
   "execution_count": 23,
   "id": "a0182cbd-239c-4385-80c1-44da4b9e1a4c",
   "metadata": {},
   "outputs": [],
   "source": [
    "#create instances\n",
    "marine_1 = Marine()\n",
    "marine_2 = Marine()"
   ]
  },
  {
   "cell_type": "code",
   "execution_count": 24,
   "id": "07b0f1d2-7e47-4f14-b3b2-2f2d302a8fa2",
   "metadata": {},
   "outputs": [
    {
     "data": {
      "text/plain": [
       "40"
      ]
     },
     "execution_count": 24,
     "metadata": {},
     "output_type": "execute_result"
    }
   ],
   "source": [
    "marine_2.health"
   ]
  },
  {
   "cell_type": "code",
   "execution_count": 25,
   "id": "bf13b6a4-2267-4e3e-a4c7-0de29b11cc71",
   "metadata": {},
   "outputs": [
    {
     "data": {
      "text/plain": [
       "35"
      ]
     },
     "execution_count": 25,
     "metadata": {},
     "output_type": "execute_result"
    }
   ],
   "source": [
    "marine_1.attack(marine_2) # 여러번 공격하면 marine_2의 체력이 계속 감소"
   ]
  },
  {
   "cell_type": "markdown",
   "id": "b0aa4cff-341d-437c-8c37-bb404b39b7e4",
   "metadata": {},
   "source": [
    "### 5. Class Inheritance\n",
    "\n",
    "* Allows a class instance to inherit methods from another class without needing to replicate same codes"
   ]
  },
  {
   "cell_type": "code",
   "execution_count": 27,
   "id": "2e161985-ce32-4ea5-9d0e-c87053a8fcb8",
   "metadata": {},
   "outputs": [],
   "source": [
    "#create base class\n",
    "class Calculator:\n",
    "    \n",
    "    def __init__(self, num1, num2):\n",
    "        self.num1 = num1\n",
    "        self.num2 = num2\n",
    "        \n",
    "    def plus(self):\n",
    "        return self.num1 + self.num2\n",
    "    \n",
    "\n",
    "#inherit a class by passing it within the paranthesis\n",
    "#don't necessarily need a constructor becuase it will be inherited from Calculator\n",
    "class Calculator3(Calculator):\n",
    "    def minus(self):\n",
    "        return self.num1 - self.num2"
   ]
  },
  {
   "cell_type": "code",
   "execution_count": 28,
   "id": "4e688b0e-a9ff-45d9-8f90-b5fb0d7a6089",
   "metadata": {},
   "outputs": [
    {
     "data": {
      "text/plain": [
       "(3, -1)"
      ]
     },
     "execution_count": 28,
     "metadata": {},
     "output_type": "execute_result"
    }
   ],
   "source": [
    "calc3 = Calculator3(1, 2)\n",
    "calc3.plus(), calc3.minus()"
   ]
  },
  {
   "cell_type": "markdown",
   "id": "39dd4f9c-e0ec-47bc-bd9c-89bd0a6dc5d8",
   "metadata": {},
   "source": [
    "### 6. Method Overriding\n",
    "\n",
    "* Allows a class to inherit methods from a different class AND apply changes to inherited logics"
   ]
  },
  {
   "cell_type": "code",
   "execution_count": 29,
   "id": "9ef64707-e5d8-4287-a091-3ab581a79c20",
   "metadata": {},
   "outputs": [],
   "source": [
    "#method overriding\n",
    "#when executing plus function, instead of plain addition, square each elements and then add\n",
    "class Calculator4(Calculator3):\n",
    "    def plus(self):\n",
    "        return self.num1**2 + self.num2**2"
   ]
  },
  {
   "cell_type": "code",
   "execution_count": 30,
   "id": "64fc88db-471d-4523-8742-2cd91c68bca6",
   "metadata": {},
   "outputs": [
    {
     "data": {
      "text/plain": [
       "(5, -1)"
      ]
     },
     "execution_count": 30,
     "metadata": {},
     "output_type": "execute_result"
    }
   ],
   "source": [
    "calc4 = Calculator4(1, 2)\n",
    "calc4.plus(), calc4.minus()"
   ]
  },
  {
   "cell_type": "markdown",
   "id": "16dc86c7-39a8-40d5-951d-2d2b87eacb13",
   "metadata": {},
   "source": [
    "### 7. Multiple Inheritance\n",
    "\n",
    "* Multiple inheritance is supported in Python, but in some languages such as Java, this feature is not allowed"
   ]
  },
  {
   "cell_type": "code",
   "execution_count": 31,
   "id": "73b43556-da7e-4ce4-93b8-d14f2dd527e1",
   "metadata": {},
   "outputs": [],
   "source": [
    "class Iphone1:\n",
    "    def calling(self):\n",
    "        print(\"calling\")\n",
    "        \n",
    "\n",
    "class Iphone2(Iphone1):\n",
    "    def send_msg(self):\n",
    "        print(\"send_msg\")\n",
    "        \n",
    "        \n",
    "class Iphone3(Iphone2):\n",
    "    def internet(self):\n",
    "        print(\"internet\")\n",
    "        \n",
    "        \n",
    "class Galaxy:\n",
    "    def show_img(self):\n",
    "        print(\"show_img\")\n",
    "        \n",
    "        \n",
    "class Ultimate(Iphone3, Galaxy):\n",
    "    def camera(self):\n",
    "        print(\"camera\")"
   ]
  },
  {
   "cell_type": "code",
   "execution_count": 34,
   "id": "2ca2fe8a-7448-4303-ae56-7dfd554841bb",
   "metadata": {},
   "outputs": [
    {
     "data": {
      "text/plain": [
       "['calling', 'camera', 'internet', 'send_msg', 'show_img']"
      ]
     },
     "execution_count": 34,
     "metadata": {},
     "output_type": "execute_result"
    }
   ],
   "source": [
    "#create an ultimate phone\n",
    "dss_phone = Ultimate()\n",
    "\n",
    "#find functions\n",
    "[func for func in dir(dss_phone) if func[:2] != \"__\"]"
   ]
  },
  {
   "cell_type": "code",
   "execution_count": null,
   "id": "2e651dfc-3324-4b6b-89ef-57053e55ee2c",
   "metadata": {},
   "outputs": [],
   "source": []
  }
 ],
 "metadata": {
  "kernelspec": {
   "display_name": "Python 3",
   "language": "python",
   "name": "python3"
  },
  "language_info": {
   "codemirror_mode": {
    "name": "ipython",
    "version": 3
   },
   "file_extension": ".py",
   "mimetype": "text/x-python",
   "name": "python",
   "nbconvert_exporter": "python",
   "pygments_lexer": "ipython3",
   "version": "3.8.8"
  }
 },
 "nbformat": 4,
 "nbformat_minor": 5
}
