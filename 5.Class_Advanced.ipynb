{
 "cells": [
  {
   "cell_type": "markdown",
   "id": "6c9ad55b-358c-496e-8474-8a1a5bdd1613",
   "metadata": {},
   "source": [
    "### 1. Super\n",
    "\n",
    "* Allows child class to inherit and edit codes from parent class"
   ]
  },
  {
   "cell_type": "code",
   "execution_count": 23,
   "id": "5b55d44b-8fbf-43b2-ace6-fb9e1505ce85",
   "metadata": {},
   "outputs": [],
   "source": [
    "class Marine:\n",
    "    \n",
    "    def __init__(self):\n",
    "        self.health = 40\n",
    "        self.attack_pow = 5\n",
    "    \n",
    "    def attack(self, unit):\n",
    "        unit.health -= self.attack_pow\n",
    "        if unit.health <= 0:\n",
    "            unit.health = 0\n",
    "            \n",
    "\n",
    "class Marine2(Marine):\n",
    "    \n",
    "    def __init__(self):        \n",
    "#         self.health = 40\n",
    "#         self.attack_pow = 5\n",
    "        super().__init__()\n",
    "        self.max_health = 40"
   ]
  },
  {
   "cell_type": "code",
   "execution_count": 24,
   "id": "c2f56285-eff4-494e-9f11-b3100e61721f",
   "metadata": {},
   "outputs": [
    {
     "data": {
      "text/plain": [
       "(40, 5, 40)"
      ]
     },
     "execution_count": 24,
     "metadata": {},
     "output_type": "execute_result"
    }
   ],
   "source": [
    "marine = Marine2()\n",
    "marine.health, marine.attack_pow, marine.max_health"
   ]
  },
  {
   "cell_type": "markdown",
   "id": "f6d7c7a1-f369-411f-b699-5da3225a7a23",
   "metadata": {},
   "source": [
    "### 2. Getter & Setter\n",
    "\n",
    "* Limiting user's access to a class's internal variables"
   ]
  },
  {
   "cell_type": "code",
   "execution_count": 27,
   "id": "19dad2a3-721f-4a1d-983b-eef4f88d5b96",
   "metadata": {},
   "outputs": [],
   "source": [
    "#create a class\n",
    "class User:\n",
    "    \n",
    "    def __init__(self, first_name):\n",
    "        self.first_name = first_name\n",
    "        \n",
    "    def disp(self):\n",
    "        print(self.first_name)"
   ]
  },
  {
   "cell_type": "code",
   "execution_count": 28,
   "id": "aa99d9ca-6bae-497d-9411-1d22af07eb4c",
   "metadata": {},
   "outputs": [
    {
     "name": "stdout",
     "output_type": "stream",
     "text": [
      "Nick\n"
     ]
    }
   ],
   "source": [
    "#make an instance\n",
    "user1 = User(\"Nick\")\n",
    "user1.disp()"
   ]
  },
  {
   "cell_type": "code",
   "execution_count": 29,
   "id": "b4084ca9-fd7c-4ddd-be37-314cfd9c83df",
   "metadata": {},
   "outputs": [
    {
     "name": "stdout",
     "output_type": "stream",
     "text": [
      "Jongho\n"
     ]
    }
   ],
   "source": [
    "#change first_name variable\n",
    "user1.first_name = \"Jongho\"\n",
    "user1.disp()"
   ]
  },
  {
   "cell_type": "code",
   "execution_count": 30,
   "id": "0ad4adc3-12f5-4c80-8d49-3ce995ffdb0f",
   "metadata": {},
   "outputs": [
    {
     "name": "stdout",
     "output_type": "stream",
     "text": [
      "1\n"
     ]
    }
   ],
   "source": [
    "#you can also set it to an integer value\n",
    "user1.first_name = 1\n",
    "user1.disp()"
   ]
  },
  {
   "cell_type": "markdown",
   "id": "f05b4bdb-2d19-4dd3-99c1-f8c467f5a751",
   "metadata": {},
   "source": [
    "* With getter and setter, you can limit a user's access to first_name variable\n",
    "* Using a property function, you can create a variable that refers to first_name within the class\n",
    "* If you call name, then **getter** function will be executed\n",
    "* If you assign anything to name, the **setter** function will be executed"
   ]
  },
  {
   "cell_type": "code",
   "execution_count": 31,
   "id": "4419a350-203d-4193-a2b0-43a61fe79238",
   "metadata": {},
   "outputs": [],
   "source": [
    "class User:\n",
    "    \n",
    "    def __init__(self, first_name):\n",
    "        self.first_name = first_name\n",
    "    \n",
    "    def setter(self, x):\n",
    "        if len(x) >=  3:\n",
    "            self.first_name = x\n",
    "        else:\n",
    "            print(\"error\")\n",
    "        \n",
    "    def getter(self):        \n",
    "        print(\"getter\")\n",
    "        return self.first_name.upper()\n",
    "    \n",
    "    name = property(getter, setter)"
   ]
  },
  {
   "cell_type": "code",
   "execution_count": 40,
   "id": "d19f4635-8f59-41d8-aaff-48219549e483",
   "metadata": {},
   "outputs": [],
   "source": [
    "user1 = User(\"Nick\")"
   ]
  },
  {
   "cell_type": "code",
   "execution_count": 41,
   "id": "ffeb2a2e-46b3-4355-b81e-1d3559fc77b6",
   "metadata": {},
   "outputs": [
    {
     "data": {
      "text/plain": [
       "'Nick'"
      ]
     },
     "execution_count": 41,
     "metadata": {},
     "output_type": "execute_result"
    }
   ],
   "source": [
    "user1.first_name"
   ]
  },
  {
   "cell_type": "code",
   "execution_count": 42,
   "id": "160eb2f1-7edf-4974-a76b-35f4bef1197d",
   "metadata": {},
   "outputs": [
    {
     "data": {
      "text/plain": [
       "'Jongho'"
      ]
     },
     "execution_count": 42,
     "metadata": {},
     "output_type": "execute_result"
    }
   ],
   "source": [
    "#execute the setter function\n",
    "user1.name = \"Jongho\"\n",
    "user1.first_name"
   ]
  },
  {
   "cell_type": "code",
   "execution_count": 43,
   "id": "6230e393-3837-49e5-8102-9629a6064a2a",
   "metadata": {},
   "outputs": [
    {
     "name": "stdout",
     "output_type": "stream",
     "text": [
      "getter\n"
     ]
    },
    {
     "data": {
      "text/plain": [
       "'JONGHO'"
      ]
     },
     "execution_count": 43,
     "metadata": {},
     "output_type": "execute_result"
    }
   ],
   "source": [
    "#execute the getter function\n",
    "user1.name"
   ]
  },
  {
   "cell_type": "markdown",
   "id": "4d529888-a4cd-4e6b-8499-68297a6cd24c",
   "metadata": {},
   "source": [
    "* However, users can still access the first_name variable directly and nullify the getter & setter limitations"
   ]
  },
  {
   "cell_type": "code",
   "execution_count": 45,
   "id": "f7af9c12-11d0-4556-85da-a8dcf291bfdf",
   "metadata": {},
   "outputs": [
    {
     "name": "stdout",
     "output_type": "stream",
     "text": [
      "getter\n"
     ]
    },
    {
     "data": {
      "text/plain": [
       "'DIRECT ACCESS'"
      ]
     },
     "execution_count": 45,
     "metadata": {},
     "output_type": "execute_result"
    }
   ],
   "source": [
    "user1.first_name = \"DIRECT ACCESS\"\n",
    "user1.name"
   ]
  },
  {
   "cell_type": "markdown",
   "id": "18548605-4f45-4ff7-b0d9-66a83755b7a5",
   "metadata": {},
   "source": [
    "### 3. Non-public / Mangling\n",
    "\n",
    "* With **mangling** technique, you can limit a user's direct access to variables within a class object"
   ]
  },
  {
   "cell_type": "code",
   "execution_count": 49,
   "id": "8a8d19e6-b0b5-4e95-adb5-0f391f176e8d",
   "metadata": {},
   "outputs": [],
   "source": [
    "class Calculator:\n",
    "    \n",
    "    def __init__(self, num1, num2):\n",
    "        self.num1 = num1\n",
    "        self.num2 = num2\n",
    "\n",
    "    def getter(self):\n",
    "        print(\"getter\")\n",
    "        return self.num2\n",
    "    \n",
    "    # num2에 0이 들어가지 않도록 함\n",
    "    def setter(self, num2):\n",
    "        num2 = 1 if num2 == 0 else num2\n",
    "        self.num2 = num2\n",
    "    \n",
    "    def div(self):\n",
    "        return self.num1 / self.num2\n",
    "    \n",
    "    number2 = property(getter, setter)"
   ]
  },
  {
   "cell_type": "code",
   "execution_count": 50,
   "id": "24e29ed6-1155-4c2a-91ad-cde2be4a5c8b",
   "metadata": {},
   "outputs": [
    {
     "name": "stdout",
     "output_type": "stream",
     "text": [
      "getter\n"
     ]
    },
    {
     "data": {
      "text/plain": [
       "1"
      ]
     },
     "execution_count": 50,
     "metadata": {},
     "output_type": "execute_result"
    }
   ],
   "source": [
    "#create an instance\n",
    "calc = Calculator(1, 2)\n",
    "\n",
    "#using number2 variable to change num2\n",
    "calc.number2 = 0\n",
    "\n",
    "calc.number2"
   ]
  },
  {
   "cell_type": "code",
   "execution_count": 51,
   "id": "68e3bf8e-9ad0-4033-9a54-d98ee8727e9a",
   "metadata": {},
   "outputs": [
    {
     "data": {
      "text/plain": [
       "0"
      ]
     },
     "execution_count": 51,
     "metadata": {},
     "output_type": "execute_result"
    }
   ],
   "source": [
    "#One caveat is that we can still directly access num2 variable like below\n",
    "calc.num2 = 0\n",
    "calc.num2"
   ]
  },
  {
   "cell_type": "code",
   "execution_count": 61,
   "id": "fffebdbc-957b-4f6a-a1c5-129af6fb26fd",
   "metadata": {},
   "outputs": [],
   "source": [
    "class Calculator:\n",
    "    \n",
    "    def __init__(self, num1, num2):\n",
    "        self.num1 = num1\n",
    "        self.__num2 = num2 #mangling\n",
    "\n",
    "    def getter(self):\n",
    "        print(\"getter\")\n",
    "        return self.__num2\n",
    "    \n",
    "    # num2에 0이 들어가지 않도록 함\n",
    "    def setter(self, num2):\n",
    "        print(\"setter\")\n",
    "        num2 = 1 if num2 == 0 else num2\n",
    "        self.__num2 = num2\n",
    "    \n",
    "    def __disp(self):\n",
    "        print(self.num1, self.__num2)\n",
    "    \n",
    "    def div(self):\n",
    "        self.__disp()\n",
    "        return self.num1 / self.__num2\n",
    "    \n",
    "    number2 = property(getter, setter)"
   ]
  },
  {
   "cell_type": "code",
   "execution_count": 62,
   "id": "b00cddf9-e66b-4c7d-bf87-8ad94bdb82a1",
   "metadata": {},
   "outputs": [
    {
     "name": "stdout",
     "output_type": "stream",
     "text": [
      "1 2\n"
     ]
    },
    {
     "data": {
      "text/plain": [
       "0.5"
      ]
     },
     "execution_count": 62,
     "metadata": {},
     "output_type": "execute_result"
    }
   ],
   "source": [
    "#create an instance\n",
    "calc = Calculator(1, 2)\n",
    "\n",
    "calc.div()"
   ]
  },
  {
   "cell_type": "code",
   "execution_count": 63,
   "id": "7c5f7613-3229-47f3-ba6e-17c6216ae2ce",
   "metadata": {},
   "outputs": [
    {
     "name": "stdout",
     "output_type": "stream",
     "text": [
      "getter\n"
     ]
    },
    {
     "data": {
      "text/plain": [
       "2"
      ]
     },
     "execution_count": 63,
     "metadata": {},
     "output_type": "execute_result"
    }
   ],
   "source": [
    "#execute getter function\n",
    "calc.number2"
   ]
  },
  {
   "cell_type": "code",
   "execution_count": 65,
   "id": "7e5d6268-8b4b-4d67-afc0-c880cfd9781a",
   "metadata": {},
   "outputs": [
    {
     "name": "stdout",
     "output_type": "stream",
     "text": [
      "setter\n",
      "getter\n"
     ]
    },
    {
     "data": {
      "text/plain": [
       "1"
      ]
     },
     "execution_count": 65,
     "metadata": {},
     "output_type": "execute_result"
    }
   ],
   "source": [
    "#execute getter and setter\n",
    "calc.number2 = 0\n",
    "calc.number2"
   ]
  },
  {
   "cell_type": "code",
   "execution_count": 66,
   "id": "7893db58-9970-49f8-aae6-fb7b6df20eae",
   "metadata": {},
   "outputs": [
    {
     "ename": "AttributeError",
     "evalue": "'Calculator' object has no attribute '__num2'",
     "output_type": "error",
     "traceback": [
      "\u001b[0;31m---------------------------------------------------------------------------\u001b[0m",
      "\u001b[0;31mAttributeError\u001b[0m                            Traceback (most recent call last)",
      "\u001b[0;32m<ipython-input-66-b257bba871a2>\u001b[0m in \u001b[0;36m<module>\u001b[0;34m\u001b[0m\n\u001b[1;32m      1\u001b[0m \u001b[0;31m#실행조차 되지 않게 설정됨\u001b[0m\u001b[0;34m\u001b[0m\u001b[0;34m\u001b[0m\u001b[0;34m\u001b[0m\u001b[0m\n\u001b[0;32m----> 2\u001b[0;31m \u001b[0mcalc\u001b[0m\u001b[0;34m.\u001b[0m\u001b[0m__num2\u001b[0m\u001b[0;34m\u001b[0m\u001b[0;34m\u001b[0m\u001b[0m\n\u001b[0m",
      "\u001b[0;31mAttributeError\u001b[0m: 'Calculator' object has no attribute '__num2'"
     ]
    }
   ],
   "source": [
    "#with mangling, you can't directly call __num2 variable\n",
    "calc.__num2"
   ]
  },
  {
   "cell_type": "code",
   "execution_count": 67,
   "id": "0596f123-2d00-4e35-b408-1a784387c676",
   "metadata": {},
   "outputs": [
    {
     "data": {
      "text/plain": [
       "1"
      ]
     },
     "execution_count": 67,
     "metadata": {},
     "output_type": "execute_result"
    }
   ],
   "source": [
    "#to call __num2, you actually need to call the below\n",
    "calc._Calculator__num2"
   ]
  },
  {
   "cell_type": "code",
   "execution_count": 69,
   "id": "a2d85c81-fdcb-4d19-8197-c46ebb0483f4",
   "metadata": {},
   "outputs": [
    {
     "ename": "AttributeError",
     "evalue": "'Calculator' object has no attribute '__disp'",
     "output_type": "error",
     "traceback": [
      "\u001b[0;31m---------------------------------------------------------------------------\u001b[0m",
      "\u001b[0;31mAttributeError\u001b[0m                            Traceback (most recent call last)",
      "\u001b[0;32m<ipython-input-69-fe4d0fc650be>\u001b[0m in \u001b[0;36m<module>\u001b[0;34m\u001b[0m\n\u001b[1;32m      1\u001b[0m \u001b[0;31m#this works the same for functions. You can use mangling in function to limit direct access to functions\u001b[0m\u001b[0;34m\u001b[0m\u001b[0;34m\u001b[0m\u001b[0;34m\u001b[0m\u001b[0m\n\u001b[1;32m      2\u001b[0m \u001b[0;31m#so that these functions will only be used within class\u001b[0m\u001b[0;34m\u001b[0m\u001b[0;34m\u001b[0m\u001b[0;34m\u001b[0m\u001b[0m\n\u001b[0;32m----> 3\u001b[0;31m \u001b[0mcalc\u001b[0m\u001b[0;34m.\u001b[0m\u001b[0m__disp\u001b[0m\u001b[0;34m(\u001b[0m\u001b[0;34m)\u001b[0m\u001b[0;34m\u001b[0m\u001b[0;34m\u001b[0m\u001b[0m\n\u001b[0m",
      "\u001b[0;31mAttributeError\u001b[0m: 'Calculator' object has no attribute '__disp'"
     ]
    }
   ],
   "source": [
    "#this works the same for functions. You can use mangling in function to limit direct access to functions\n",
    "#so that these functions will only be used within class\n",
    "calc.__disp()"
   ]
  },
  {
   "cell_type": "markdown",
   "id": "cf3d857a-d31a-4d6f-82be-f5b2c45b7dc9",
   "metadata": {},
   "source": [
    "### 4. is a & has a\n",
    "\n",
    "- Two different concepts in building a class\n",
    "- A is a B\n",
    "    - Using inheritance to build class\n",
    "- A has a B\n",
    "    - Building an instance of class A using class B object"
   ]
  },
  {
   "cell_type": "markdown",
   "id": "3652d057-970e-42de-958c-0c5fe0abc13d",
   "metadata": {},
   "source": [
    "#### 4.1 is a"
   ]
  },
  {
   "cell_type": "code",
   "execution_count": 72,
   "id": "4f50e7b2-f585-41fc-8cef-3ccd82e8d7ad",
   "metadata": {},
   "outputs": [],
   "source": [
    "# is a\n",
    "class Person:\n",
    "    def __init__(self, name, email):\n",
    "        self.name = name\n",
    "        self.email = email\n",
    "        \n",
    "\n",
    "class Person2(Person):\n",
    "    def info(self):\n",
    "        print(self.name, self.email)"
   ]
  },
  {
   "cell_type": "code",
   "execution_count": 73,
   "id": "f7202bfd-bed3-42c3-8c4f-b43b53097eeb",
   "metadata": {},
   "outputs": [
    {
     "name": "stdout",
     "output_type": "stream",
     "text": [
      "andy andy@gmail.com\n"
     ]
    }
   ],
   "source": [
    "p = Person2(\"andy\", \"andy@gmail.com\")\n",
    "p.info()"
   ]
  },
  {
   "cell_type": "markdown",
   "id": "0d5af70e-86e8-4900-8590-474e2db33366",
   "metadata": {},
   "source": [
    "#### 4.2 has a"
   ]
  },
  {
   "cell_type": "code",
   "execution_count": 74,
   "id": "1ffa6017-f102-4237-bfc8-68088f09342e",
   "metadata": {},
   "outputs": [],
   "source": [
    "# has a\n",
    "class Name:\n",
    "    def __init__(self, name):\n",
    "        self.name_str = name\n",
    "        \n",
    "        \n",
    "class Email:\n",
    "    def __init__(self, email):\n",
    "        self.email_str = email\n",
    "        \n",
    "        \n",
    "class Person:\n",
    "    def __init__(self, name_obj, email_obj):\n",
    "        self.name = name_obj\n",
    "        self.email = email_obj\n",
    "    def info(self):\n",
    "        print(name.name_str, email.email_str)"
   ]
  },
  {
   "cell_type": "code",
   "execution_count": 75,
   "id": "222aa781-c538-420c-a5e8-91a40ce60cde",
   "metadata": {},
   "outputs": [
    {
     "name": "stdout",
     "output_type": "stream",
     "text": [
      "andy andy@gmail.com\n"
     ]
    }
   ],
   "source": [
    "name = Name(\"andy\")\n",
    "email = Email(\"andy@gmail.com\")\n",
    "p = Person(name, email)\n",
    "\n",
    "p.info()"
   ]
  },
  {
   "cell_type": "code",
   "execution_count": null,
   "id": "8e08d3a9-de88-45cb-a2ba-18da29fbc61b",
   "metadata": {},
   "outputs": [],
   "source": []
  }
 ],
 "metadata": {
  "kernelspec": {
   "display_name": "Python 3",
   "language": "python",
   "name": "python3"
  },
  "language_info": {
   "codemirror_mode": {
    "name": "ipython",
    "version": 3
   },
   "file_extension": ".py",
   "mimetype": "text/x-python",
   "name": "python",
   "nbconvert_exporter": "python",
   "pygments_lexer": "ipython3",
   "version": "3.8.8"
  }
 },
 "nbformat": 4,
 "nbformat_minor": 5
}
