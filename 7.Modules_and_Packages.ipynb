{
 "cells": [
  {
   "cell_type": "markdown",
   "id": "73140252-ea2a-41e5-b2fe-4310671f2894",
   "metadata": {},
   "source": [
    "# Module Package\n",
    "- Module : (.py) extension file that contains variables, functions, and classes\n",
    "    * Ex) import **random**: comes from random.py\n",
    "- Package : A higher dimension of modules. An organized directories of modules by their features"
   ]
  },
  {
   "cell_type": "markdown",
   "id": "0fcc6895-1306-44a1-8642-096afebcc5f3",
   "metadata": {},
   "source": [
    "## 1. Module"
   ]
  },
  {
   "cell_type": "markdown",
   "id": "f6cba353-b912-43f3-afc8-7a9fecc25b5b",
   "metadata": {},
   "source": [
    "### 1.1 Writing a Module"
   ]
  },
  {
   "cell_type": "code",
   "execution_count": 2,
   "id": "594dfd92-c95d-435b-9ecf-86050fb7985d",
   "metadata": {},
   "outputs": [
    {
     "name": "stdout",
     "output_type": "stream",
     "text": [
      "1.Python_Basic_Syntax.ipynb    7.Modules_and_Packages.ipynb\n",
      "2.Python_Advanced_Syntax.ipynb README.md\n",
      "3.Decorators.ipynb             \u001b[34m__pycache__\u001b[m\u001b[m\n",
      "4.Class.ipynb                  module_test.py\n",
      "5.Class_Advanced.ipynb         \u001b[34mschool\u001b[m\u001b[m\n",
      "6.Special_Methods.ipynb\n"
     ]
    }
   ],
   "source": [
    "!ls"
   ]
  },
  {
   "cell_type": "code",
   "execution_count": 3,
   "id": "2a30faad-fbf0-4ba3-b4dd-cb8aaee68455",
   "metadata": {},
   "outputs": [
    {
     "name": "stdout",
     "output_type": "stream",
     "text": [
      "Overwriting module_test.py\n"
     ]
    }
   ],
   "source": [
    "%%writefile module_test.py\n",
    "\n",
    "num = 1234\n",
    "\n",
    "def disp1(msg):\n",
    "    print(\"disp1\", msg)\n",
    "\n",
    "def disp2(msg):\n",
    "    print(\"disp2\", msg)\n",
    "\n",
    "class Calc:\n",
    "    def plus(self, *args):\n",
    "        return sum(args)"
   ]
  },
  {
   "cell_type": "code",
   "execution_count": 4,
   "id": "dad6fdf1-6c44-4e87-9b9d-b7d228fc432a",
   "metadata": {},
   "outputs": [
    {
     "name": "stdout",
     "output_type": "stream",
     "text": [
      "1.Python_Basic_Syntax.ipynb    7.Modules_and_Packages.ipynb\n",
      "2.Python_Advanced_Syntax.ipynb README.md\n",
      "3.Decorators.ipynb             \u001b[34m__pycache__\u001b[m\u001b[m\n",
      "4.Class.ipynb                  module_test.py\n",
      "5.Class_Advanced.ipynb         \u001b[34mschool\u001b[m\u001b[m\n",
      "6.Special_Methods.ipynb\n"
     ]
    }
   ],
   "source": [
    "!ls"
   ]
  },
  {
   "cell_type": "markdown",
   "id": "8180db76-6de8-40c5-97f3-58ff2cc82ec2",
   "metadata": {},
   "source": [
    "### 1.2 Importing a Module\n",
    "\n",
    "* When you import a module, a variable with the name of the module is loaded.\n",
    "* We can then use the variables, functions, and classes within the module"
   ]
  },
  {
   "cell_type": "code",
   "execution_count": 5,
   "id": "de9483c4-5257-46ee-8d72-1b7a2e839703",
   "metadata": {},
   "outputs": [],
   "source": [
    "#import command\n",
    "import module_test"
   ]
  },
  {
   "cell_type": "code",
   "execution_count": 6,
   "id": "97f83646-f5ee-4a3a-834a-0f18f2cad428",
   "metadata": {},
   "outputs": [
    {
     "name": "stdout",
     "output_type": "stream",
     "text": [
      "Variable      Type      Data/Info\n",
      "---------------------------------\n",
      "module_test   module    <module 'module_test' fro<...>concepts/module_test.py'>\n"
     ]
    }
   ],
   "source": [
    "%whos"
   ]
  },
  {
   "cell_type": "code",
   "execution_count": 7,
   "id": "93c32a78-4465-4bfb-8ac8-25909f24c9b2",
   "metadata": {},
   "outputs": [
    {
     "data": {
      "text/plain": [
       "1234"
      ]
     },
     "execution_count": 7,
     "metadata": {},
     "output_type": "execute_result"
    }
   ],
   "source": [
    "#use a variable within the imported module\n",
    "module_test.num"
   ]
  },
  {
   "cell_type": "code",
   "execution_count": 8,
   "id": "29e73c95-aa34-4e50-a364-9ba0572a2fb3",
   "metadata": {},
   "outputs": [
    {
     "name": "stdout",
     "output_type": "stream",
     "text": [
      "disp1 Python\n"
     ]
    }
   ],
   "source": [
    "#use a function within the imported module\n",
    "module_test.disp1(\"Python\")"
   ]
  },
  {
   "cell_type": "code",
   "execution_count": 9,
   "id": "72a07537-d78a-4a0c-bf52-0d66ced1e412",
   "metadata": {},
   "outputs": [
    {
     "data": {
      "text/plain": [
       "10"
      ]
     },
     "execution_count": 9,
     "metadata": {},
     "output_type": "execute_result"
    }
   ],
   "source": [
    "#use a class within the imported module\n",
    "calc = module_test.Calc()\n",
    "\n",
    "#use a class method\n",
    "calc.plus(1, 2, 3, 4)"
   ]
  },
  {
   "cell_type": "markdown",
   "id": "5bf3ce1e-bfbe-4ef5-9973-23aa69080c05",
   "metadata": {},
   "source": [
    "### 1.3 Importing Specific Variables, Functions, Classes within a Module"
   ]
  },
  {
   "cell_type": "code",
   "execution_count": 10,
   "id": "c65a525a-07ce-4847-9124-9d05de2c3466",
   "metadata": {},
   "outputs": [],
   "source": [
    "from module_test import num, disp2"
   ]
  },
  {
   "cell_type": "code",
   "execution_count": 11,
   "id": "2de801ee-77b2-41a6-8f3b-878365510491",
   "metadata": {},
   "outputs": [
    {
     "name": "stdout",
     "output_type": "stream",
     "text": [
      "Variable      Type        Data/Info\n",
      "-----------------------------------\n",
      "calc          Calc        <module_test.Calc object at 0x7fa77b2abc10>\n",
      "disp2         function    <function disp2 at 0x7fa77b2888b0>\n",
      "module_test   module      <module 'module_test' fro<...>concepts/module_test.py'>\n",
      "num           int         1234\n"
     ]
    }
   ],
   "source": [
    "%whos"
   ]
  },
  {
   "cell_type": "code",
   "execution_count": 12,
   "id": "7e943ef8-7758-4ebd-bcd2-6b1d0c06ba2a",
   "metadata": {},
   "outputs": [
    {
     "data": {
      "text/plain": [
       "1234"
      ]
     },
     "execution_count": 12,
     "metadata": {},
     "output_type": "execute_result"
    }
   ],
   "source": [
    "num"
   ]
  },
  {
   "cell_type": "markdown",
   "id": "535a418c-fcc6-4a92-b0c9-7a3b53e177d9",
   "metadata": {},
   "source": [
    "### 1.4 Importing Everything from a Module"
   ]
  },
  {
   "cell_type": "code",
   "execution_count": 13,
   "id": "aa0b97c9-3c9d-4d9f-93c9-9a80a54f0f98",
   "metadata": {},
   "outputs": [
    {
     "name": "stdin",
     "output_type": "stream",
     "text": [
      "Once deleted, variables cannot be recovered. Proceed (y/[n])?  y\n"
     ]
    }
   ],
   "source": [
    "%reset"
   ]
  },
  {
   "cell_type": "code",
   "execution_count": 14,
   "id": "ebe35627-e836-49ed-b5e2-c934ff3a6d84",
   "metadata": {},
   "outputs": [],
   "source": [
    "from module_test import *"
   ]
  },
  {
   "cell_type": "code",
   "execution_count": 15,
   "id": "9f737d3e-91ce-4b19-8fce-f95194f54d49",
   "metadata": {},
   "outputs": [
    {
     "name": "stdout",
     "output_type": "stream",
     "text": [
      "Variable   Type        Data/Info\n",
      "--------------------------------\n",
      "Calc       type        <class 'module_test.Calc'>\n",
      "disp1      function    <function disp1 at 0x7fa77b288820>\n",
      "disp2      function    <function disp2 at 0x7fa77b2888b0>\n",
      "num        int         1234\n"
     ]
    }
   ],
   "source": [
    "%whos"
   ]
  },
  {
   "cell_type": "code",
   "execution_count": 16,
   "id": "644a6504-4952-46bd-b582-afe52d4fef08",
   "metadata": {},
   "outputs": [
    {
     "data": {
      "text/plain": [
       "1234"
      ]
     },
     "execution_count": 16,
     "metadata": {},
     "output_type": "execute_result"
    }
   ],
   "source": [
    "num"
   ]
  },
  {
   "cell_type": "code",
   "execution_count": 17,
   "id": "cc58891f-a5e3-4747-9a90-6c32f8e48603",
   "metadata": {},
   "outputs": [
    {
     "name": "stdout",
     "output_type": "stream",
     "text": [
      "disp1 Python\n"
     ]
    }
   ],
   "source": [
    "disp1(\"Python\")"
   ]
  },
  {
   "cell_type": "markdown",
   "id": "7f44ae4b-ebe8-4cc9-9eac-d3f17291117b",
   "metadata": {},
   "source": [
    "## 2. Packages\n",
    "\n",
    "* Make a package and directories\n",
    "* In this case, **package_test** is a package"
   ]
  },
  {
   "cell_type": "markdown",
   "id": "91734487-5932-4b26-a5c1-acc005440ba8",
   "metadata": {},
   "source": [
    "### 2.1 Make a Package and Directories"
   ]
  },
  {
   "cell_type": "code",
   "execution_count": 4,
   "id": "c454d17c-0a2b-439b-a1e0-ee054e1fa8b4",
   "metadata": {},
   "outputs": [],
   "source": [
    "#make a package and a directories\n",
    "!mkdir -p mypackage/first\n",
    "!mkdir -p mypackage/second"
   ]
  },
  {
   "cell_type": "code",
   "execution_count": 5,
   "id": "fc11c2f0-c838-4e2c-9def-f6d92bc9d10f",
   "metadata": {},
   "outputs": [
    {
     "name": "stdout",
     "output_type": "stream",
     "text": [
      "\u001b[01;34mmypackage\u001b[00m\n",
      "├── \u001b[01;34mfirst\u001b[00m\n",
      "└── \u001b[01;34msecond\u001b[00m\n",
      "\n",
      "2 directories, 0 files\n"
     ]
    }
   ],
   "source": [
    "#use tree to view package structure\n",
    "!tree mypackage"
   ]
  },
  {
   "cell_type": "markdown",
   "id": "b4bb221d-d09e-40a0-9bc6-40257a520ad7",
   "metadata": {},
   "source": [
    "### 2.2 Create __init__.py files within Directories\n",
    "\n",
    "* You need to add **\\__init__.py** files within directories for the computer to recognize that each are part of the package\n",
    "* This is not required for Python above version 3.3"
   ]
  },
  {
   "cell_type": "code",
   "execution_count": 6,
   "id": "ef1e9d35-b82d-47b1-85c8-f4ad049a93fc",
   "metadata": {},
   "outputs": [],
   "source": [
    "# !touch mypackage/__init__.py\n",
    "!touch mypackage/first/__init__.py\n",
    "!touch mypackage/second/__init__.py"
   ]
  },
  {
   "cell_type": "code",
   "execution_count": 7,
   "id": "7fde8ecd-680d-4592-89b3-7413b53e1fa1",
   "metadata": {},
   "outputs": [
    {
     "name": "stdout",
     "output_type": "stream",
     "text": [
      "\u001b[01;34mmypackage\u001b[00m\n",
      "├── __init__.py\n",
      "├── \u001b[01;34mfirst\u001b[00m\n",
      "│   └── __init__.py\n",
      "└── \u001b[01;34msecond\u001b[00m\n",
      "    └── __init__.py\n",
      "\n",
      "2 directories, 3 files\n"
     ]
    }
   ],
   "source": [
    "!tree mypackage"
   ]
  },
  {
   "cell_type": "markdown",
   "id": "be9749be-d4e4-4d1e-aec1-65ccd5c189bd",
   "metadata": {},
   "source": [
    "### 2.3 Creating Modules within Package Directories"
   ]
  },
  {
   "cell_type": "code",
   "execution_count": 8,
   "id": "e0701e18-3fd8-46b4-8dbc-380d062c3df3",
   "metadata": {},
   "outputs": [
    {
     "name": "stdout",
     "output_type": "stream",
     "text": [
      "Writing mypackage/first/data1.py\n"
     ]
    }
   ],
   "source": [
    "%%writefile mypackage/first/data1.py\n",
    "\n",
    "def plus(*args):\n",
    "    print(\"data1\")\n",
    "    return sum(args)"
   ]
  },
  {
   "cell_type": "code",
   "execution_count": 9,
   "id": "4cba08d9-cb9d-4668-97b5-17b3aef41f09",
   "metadata": {},
   "outputs": [
    {
     "name": "stdout",
     "output_type": "stream",
     "text": [
      "Writing mypackage/first/data2.py\n"
     ]
    }
   ],
   "source": [
    "%%writefile mypackage/first/data2.py\n",
    "\n",
    "def plus2(*args):\n",
    "    print(\"data2\")\n",
    "    return sum(args)"
   ]
  },
  {
   "cell_type": "code",
   "execution_count": 10,
   "id": "91d791ba-e39b-45d6-ad7e-dca024b1701c",
   "metadata": {},
   "outputs": [
    {
     "name": "stdout",
     "output_type": "stream",
     "text": [
      "Writing mypackage/second/url.py\n"
     ]
    }
   ],
   "source": [
    "%%writefile mypackage/second/url.py\n",
    "\n",
    "def make(url):\n",
    "    return url if url[:7] == \"http://\" else \"http://\" + url"
   ]
  },
  {
   "cell_type": "code",
   "execution_count": 11,
   "id": "fb6a3f79-fee4-43af-beb2-01cbcb595c28",
   "metadata": {},
   "outputs": [
    {
     "name": "stdout",
     "output_type": "stream",
     "text": [
      "\u001b[01;34mmypackage\u001b[00m\n",
      "├── __init__.py\n",
      "├── \u001b[01;34mfirst\u001b[00m\n",
      "│   ├── __init__.py\n",
      "│   ├── data1.py\n",
      "│   └── data2.py\n",
      "└── \u001b[01;34msecond\u001b[00m\n",
      "    ├── __init__.py\n",
      "    └── url.py\n",
      "\n",
      "2 directories, 6 files\n"
     ]
    }
   ],
   "source": [
    "!tree mypackage"
   ]
  },
  {
   "cell_type": "code",
   "execution_count": 12,
   "id": "6ec6ac7b-9977-41c4-8563-03e55d1efc8c",
   "metadata": {},
   "outputs": [
    {
     "name": "stdin",
     "output_type": "stream",
     "text": [
      "Once deleted, variables cannot be recovered. Proceed (y/[n])?  y\n"
     ]
    }
   ],
   "source": [
    "%reset"
   ]
  },
  {
   "cell_type": "code",
   "execution_count": 13,
   "id": "6212d09e-4ffb-4d9e-a3c5-425513eb7071",
   "metadata": {},
   "outputs": [
    {
     "name": "stdout",
     "output_type": "stream",
     "text": [
      "Interactive namespace is empty.\n"
     ]
    }
   ],
   "source": [
    "%whos"
   ]
  },
  {
   "cell_type": "markdown",
   "id": "ef972d93-f18f-4b36-a01c-1006480c3695",
   "metadata": {},
   "source": [
    "### 2.4 Importing from Local Packages\n",
    "\n",
    "* You are allowed to import by calling **import packagetrial.** because this package is located in the same directory as the one where this Jupyter Notebook is running on"
   ]
  },
  {
   "cell_type": "code",
   "execution_count": 14,
   "id": "07a2a24f-88a4-49f7-ba4b-c5ff6d972dba",
   "metadata": {},
   "outputs": [],
   "source": [
    "import mypackage.first.data1"
   ]
  },
  {
   "cell_type": "code",
   "execution_count": 15,
   "id": "4d5adff4-c2a7-41e2-b500-04591b9787ea",
   "metadata": {},
   "outputs": [
    {
     "name": "stdout",
     "output_type": "stream",
     "text": [
      "Variable    Type      Data/Info\n",
      "-------------------------------\n",
      "mypackage   module    <module 'mypackage' from <...>s/mypackage/__init__.py'>\n"
     ]
    }
   ],
   "source": [
    "%whos"
   ]
  },
  {
   "cell_type": "code",
   "execution_count": 16,
   "id": "6ca1e6da-8d55-4888-8d8a-e43f3b125c3a",
   "metadata": {},
   "outputs": [
    {
     "name": "stdout",
     "output_type": "stream",
     "text": [
      "data1\n"
     ]
    },
    {
     "data": {
      "text/plain": [
       "6"
      ]
     },
     "execution_count": 16,
     "metadata": {},
     "output_type": "execute_result"
    }
   ],
   "source": [
    "mypackage.first.data1.plus(1, 2, 3)"
   ]
  },
  {
   "cell_type": "code",
   "execution_count": 17,
   "id": "26d68096-b568-4912-80d2-92b49790fd5b",
   "metadata": {},
   "outputs": [
    {
     "name": "stdout",
     "output_type": "stream",
     "text": [
      "data1\n"
     ]
    },
    {
     "data": {
      "text/plain": [
       "6"
      ]
     },
     "execution_count": 17,
     "metadata": {},
     "output_type": "execute_result"
    }
   ],
   "source": [
    "#you can create alias when importing\n",
    "import mypackage.first.data1 as dss\n",
    "\n",
    "dss.plus(1, 2, 3)"
   ]
  },
  {
   "cell_type": "code",
   "execution_count": 18,
   "id": "aa59c815-588d-4b30-81a5-3be1cdcd2dfd",
   "metadata": {},
   "outputs": [
    {
     "data": {
      "text/plain": [
       "'http://google.com'"
      ]
     },
     "execution_count": 18,
     "metadata": {},
     "output_type": "execute_result"
    }
   ],
   "source": [
    "from mypackage.second import url\n",
    "\n",
    "url.make(\"google.com\")"
   ]
  },
  {
   "cell_type": "markdown",
   "id": "3a5937cb-df08-4ab4-8cf9-20f727f31540",
   "metadata": {},
   "source": [
    "### 2.5 Importing from Non-local Packages\n",
    "\n",
    "* The location of the package you want to import is very important.\n",
    "* As with **import random**, some packages can be imported even outside the local directory location.\n",
    "* Packages located in certain locations can be imported from any locations\n",
    "    * /Users/jonghobaeck/opt/anaconda3/lib/python3.8 -> This directory is where all modules such as **random** is located at"
   ]
  },
  {
   "cell_type": "markdown",
   "id": "819f9808-0ba0-4c84-b3ae-3a147cd0f2f2",
   "metadata": {},
   "source": [
    "#### 2.5.1 Where Universal Packages are Located In "
   ]
  },
  {
   "cell_type": "code",
   "execution_count": 19,
   "id": "6a94be67-36b9-4825-9a47-cf331ea4cc0d",
   "metadata": {},
   "outputs": [
    {
     "name": "stdout",
     "output_type": "stream",
     "text": [
      "/Users/jonghobaeck/Documents/GitHub/python_concepts\n",
      "/Users/jonghobaeck/opt/anaconda3/lib/python38.zip\n",
      "/Users/jonghobaeck/opt/anaconda3/lib/python3.8\n",
      "/Users/jonghobaeck/opt/anaconda3/lib/python3.8/lib-dynload\n",
      "\n",
      "/Users/jonghobaeck/opt/anaconda3/lib/python3.8/site-packages\n",
      "/Users/jonghobaeck/opt/anaconda3/lib/python3.8/site-packages/aeosa\n",
      "/Users/jonghobaeck/opt/anaconda3/lib/python3.8/site-packages/locket-0.2.1-py3.8.egg\n",
      "/Users/jonghobaeck/opt/anaconda3/lib/python3.8/site-packages/IPython/extensions\n",
      "/Users/jonghobaeck/.ipython\n"
     ]
    }
   ],
   "source": [
    "import sys\n",
    "\n",
    "for path in sys.path:\n",
    "    print(path)"
   ]
  },
  {
   "cell_type": "code",
   "execution_count": 20,
   "id": "041f83eb-80ca-4893-97e1-a4a6e0d9042d",
   "metadata": {},
   "outputs": [
    {
     "name": "stdout",
     "output_type": "stream",
     "text": [
      "True\n"
     ]
    },
    {
     "data": {
      "text/plain": [
       "['wave.py',\n",
       " 'weakref.py',\n",
       " 'webbrowser.py',\n",
       " 'wsgiref',\n",
       " 'xdrlib.py',\n",
       " 'xml',\n",
       " 'xmlrpc',\n",
       " 'zipapp.py',\n",
       " 'zipfile.py',\n",
       " 'zipimport.py']"
      ]
     },
     "execution_count": 20,
     "metadata": {},
     "output_type": "execute_result"
    }
   ],
   "source": [
    "packages = !ls /Users/jonghobaeck/opt/anaconda3/lib/python3.8\n",
    "print(\"random.py\" in packages)\n",
    "packages[-10:]"
   ]
  },
  {
   "cell_type": "markdown",
   "id": "43a302ca-69d6-4034-be49-a42a7c8eb469",
   "metadata": {},
   "source": [
    "#### 2.5.2 Using setup.py to Make Packages Globally Accessible\n",
    "\n",
    "* Specifically, **setuptools** module\n",
    "* **setup.py** needs to be created on the highest directory of the package"
   ]
  },
  {
   "cell_type": "code",
   "execution_count": 21,
   "id": "3891faa3-19ec-4d2e-b6b4-80ff14734060",
   "metadata": {},
   "outputs": [
    {
     "name": "stdout",
     "output_type": "stream",
     "text": [
      "\u001b[01;34mmypackage\u001b[00m\n",
      "├── __init__.py\n",
      "├── \u001b[01;34m__pycache__\u001b[00m\n",
      "│   └── __init__.cpython-38.pyc\n",
      "├── \u001b[01;34mfirst\u001b[00m\n",
      "│   ├── __init__.py\n",
      "│   ├── \u001b[01;34m__pycache__\u001b[00m\n",
      "│   │   ├── __init__.cpython-38.pyc\n",
      "│   │   └── data1.cpython-38.pyc\n",
      "│   ├── data1.py\n",
      "│   └── data2.py\n",
      "└── \u001b[01;34msecond\u001b[00m\n",
      "    ├── __init__.py\n",
      "    ├── \u001b[01;34m__pycache__\u001b[00m\n",
      "    │   ├── __init__.cpython-38.pyc\n",
      "    │   └── url.cpython-38.pyc\n",
      "    └── url.py\n",
      "\n",
      "5 directories, 11 files\n"
     ]
    }
   ],
   "source": [
    "!tree mypackage"
   ]
  },
  {
   "cell_type": "code",
   "execution_count": 22,
   "id": "4196894d-46a1-452e-a27f-6b007afeb28c",
   "metadata": {},
   "outputs": [
    {
     "name": "stdout",
     "output_type": "stream",
     "text": [
      "Overwriting mypackage/first/__init__.py\n"
     ]
    }
   ],
   "source": [
    "%%writefile mypackage/first/__init__.py\n",
    "\n",
    "__all__ = [\"data1\", \"data2\"]"
   ]
  },
  {
   "cell_type": "code",
   "execution_count": 23,
   "id": "47c8b57d-c547-48a5-967d-9bc12701dd21",
   "metadata": {},
   "outputs": [
    {
     "name": "stdout",
     "output_type": "stream",
     "text": [
      "Overwriting mypackage/second/__init__.py\n"
     ]
    }
   ],
   "source": [
    "%%writefile mypackage/second/__init__.py\n",
    "\n",
    "__all__ = [\"url\"]"
   ]
  },
  {
   "cell_type": "code",
   "execution_count": 25,
   "id": "65cb266e-d70d-49a7-9af4-3c0c7e2a2a71",
   "metadata": {},
   "outputs": [
    {
     "name": "stdout",
     "output_type": "stream",
     "text": [
      "Overwriting mypackage/setup.py\n"
     ]
    }
   ],
   "source": [
    "%%writefile mypackage/setup.py\n",
    "\n",
    "from setuptools import setup, find_packages\n",
    "\n",
    "setup(\n",
    "    name = \"myfirstpackage\",\n",
    "    packages = find_packages(),\n",
    "    include_package_data = True,\n",
    "    version = \"0.0.1\",\n",
    "    author = \"JonghoBaeck\",\n",
    "    author_email = \"jhbaeck94@gmail.com\",\n",
    "    zip_safe = False,\n",
    ")"
   ]
  },
  {
   "cell_type": "code",
   "execution_count": 26,
   "id": "fd28c8c9-d352-49f2-af41-05752ebdddbf",
   "metadata": {},
   "outputs": [
    {
     "name": "stdout",
     "output_type": "stream",
     "text": [
      "anaconda-client                    1.7.2\n",
      "anaconda-navigator                 2.0.3\n",
      "anaconda-project                   0.9.1\n"
     ]
    }
   ],
   "source": [
    "#command to find a list of installed Python packages\n",
    "!pip list | grep ana"
   ]
  },
  {
   "cell_type": "code",
   "execution_count": 28,
   "id": "09c2bfd7-83a0-4b8e-97c9-e9471ee944ca",
   "metadata": {},
   "outputs": [],
   "source": [
    "#we see that our package is not yet installed\n",
    "!pip list | grep myfirstpackage"
   ]
  },
  {
   "cell_type": "markdown",
   "id": "729765ec-96ec-4285-b887-3d9d0e509baa",
   "metadata": {},
   "source": [
    "#### 2.5.3 Installing Packages\n",
    "\n",
    "* Move to the package directory\n",
    "* Run **setup.py** file\n",
    "    * package_test $ python setup.py develop\n",
    "* kernel restart"
   ]
  },
  {
   "cell_type": "code",
   "execution_count": 1,
   "id": "9723fd26-c3fa-41ef-af47-686f02a1cd3b",
   "metadata": {},
   "outputs": [
    {
     "name": "stdout",
     "output_type": "stream",
     "text": [
      "myfirstpackage                     0.0.1               /Users/jonghobaeck/Documents/GitHub/python_concepts/mypackage\n"
     ]
    }
   ],
   "source": [
    "#we see that our package is installed\n",
    "!pip list | grep myfirstpackage"
   ]
  },
  {
   "cell_type": "code",
   "execution_count": 2,
   "id": "586cc3c3-d251-4d41-b519-79633cedecff",
   "metadata": {},
   "outputs": [],
   "source": [
    "#import modules\n",
    "from first import *\n",
    "from second import *"
   ]
  },
  {
   "cell_type": "code",
   "execution_count": 3,
   "id": "5ab6c511-c952-4597-9f48-804ce229c9d6",
   "metadata": {},
   "outputs": [
    {
     "name": "stdout",
     "output_type": "stream",
     "text": [
      "Variable   Type      Data/Info\n",
      "------------------------------\n",
      "data1      module    <module 'first.data1' fro<...>ypackage/first/data1.py'>\n",
      "data2      module    <module 'first.data2' fro<...>ypackage/first/data2.py'>\n",
      "url        module    <module 'second.url' from<...>mypackage/second/url.py'>\n"
     ]
    }
   ],
   "source": [
    "%whos"
   ]
  },
  {
   "cell_type": "code",
   "execution_count": 4,
   "id": "c0d503ce-4359-400d-b330-8776288e6743",
   "metadata": {},
   "outputs": [
    {
     "name": "stdout",
     "output_type": "stream",
     "text": [
      "data1\n"
     ]
    },
    {
     "data": {
      "text/plain": [
       "6"
      ]
     },
     "execution_count": 4,
     "metadata": {},
     "output_type": "execute_result"
    }
   ],
   "source": [
    "#use functions within imported mondules\n",
    "data1.plus(1, 2, 3)"
   ]
  },
  {
   "cell_type": "code",
   "execution_count": 5,
   "id": "a7ef7c6c-8835-40c5-b269-9a4d0f55d5cb",
   "metadata": {},
   "outputs": [
    {
     "data": {
      "text/plain": [
       "'http://naver.com'"
      ]
     },
     "execution_count": 5,
     "metadata": {},
     "output_type": "execute_result"
    }
   ],
   "source": [
    "#use functions within imported mondules\n",
    "url.make(\"naver.com\")"
   ]
  },
  {
   "cell_type": "code",
   "execution_count": 6,
   "id": "497343ff-559a-4969-b6ae-27f71f71d1fd",
   "metadata": {},
   "outputs": [
    {
     "ename": "ModuleNotFoundError",
     "evalue": "No module named 'myfirstpackage'",
     "output_type": "error",
     "traceback": [
      "\u001b[0;31m---------------------------------------------------------------------------\u001b[0m",
      "\u001b[0;31mModuleNotFoundError\u001b[0m                       Traceback (most recent call last)",
      "\u001b[0;32m<ipython-input-6-fabf698361b3>\u001b[0m in \u001b[0;36m<module>\u001b[0;34m\u001b[0m\n\u001b[0;32m----> 1\u001b[0;31m \u001b[0;32mimport\u001b[0m \u001b[0mmyfirstpackage\u001b[0m\u001b[0;34m\u001b[0m\u001b[0;34m\u001b[0m\u001b[0m\n\u001b[0m",
      "\u001b[0;31mModuleNotFoundError\u001b[0m: No module named 'myfirstpackage'"
     ]
    }
   ],
   "source": [
    "import myfirstpackage"
   ]
  },
  {
   "cell_type": "code",
   "execution_count": null,
   "id": "ac151924-8a89-4dd9-93a8-34c2095b71b6",
   "metadata": {},
   "outputs": [],
   "source": []
  },
  {
   "cell_type": "code",
   "execution_count": null,
   "id": "36e5a05d-6ef7-498c-8d12-fab7fd665192",
   "metadata": {},
   "outputs": [],
   "source": []
  },
  {
   "cell_type": "code",
   "execution_count": null,
   "id": "dd2d25bb-b34d-4064-8d1c-d87dff2198e9",
   "metadata": {},
   "outputs": [],
   "source": []
  }
 ],
 "metadata": {
  "kernelspec": {
   "display_name": "Python 3",
   "language": "python",
   "name": "python3"
  },
  "language_info": {
   "codemirror_mode": {
    "name": "ipython",
    "version": 3
   },
   "file_extension": ".py",
   "mimetype": "text/x-python",
   "name": "python",
   "nbconvert_exporter": "python",
   "pygments_lexer": "ipython3",
   "version": "3.8.8"
  }
 },
 "nbformat": 4,
 "nbformat_minor": 5
}
