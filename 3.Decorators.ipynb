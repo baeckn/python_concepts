{
 "cells": [
  {
   "cell_type": "markdown",
   "id": "a0d79137-c2df-4d9a-9dc1-e95a3b9744ad",
   "metadata": {},
   "source": [
    "# Decorators\n",
    "\n",
    "### 1. Understanding Function Calling"
   ]
  },
  {
   "cell_type": "code",
   "execution_count": 8,
   "id": "47b2c495-4be2-4ebb-bcbb-ee9806d1864e",
   "metadata": {},
   "outputs": [],
   "source": [
    "#create a wrapper function\n",
    "def f1(func):\n",
    "    def wrapper():\n",
    "        print(\"Started\")\n",
    "        func()\n",
    "        print(\"Ended\")\n",
    "        \n",
    "    return wrapper\n",
    "\n",
    "#create a regular function\n",
    "def f():\n",
    "    print(\"Hello\")"
   ]
  },
  {
   "cell_type": "code",
   "execution_count": 9,
   "id": "0e573584-b4b9-47b5-ab9f-b20e719a9129",
   "metadata": {},
   "outputs": [
    {
     "data": {
      "text/plain": [
       "<function __main__.f1.<locals>.wrapper()>"
      ]
     },
     "execution_count": 9,
     "metadata": {},
     "output_type": "execute_result"
    }
   ],
   "source": [
    "#you get a wrapper function returned because f1 simply returns the function\n",
    "f1(f)"
   ]
  },
  {
   "cell_type": "code",
   "execution_count": 6,
   "id": "6c696270-37b9-435f-81d6-872d58e42e7c",
   "metadata": {},
   "outputs": [
    {
     "name": "stdout",
     "output_type": "stream",
     "text": [
      "Started\n",
      "Hello\n",
      "Ended\n"
     ]
    }
   ],
   "source": [
    "#to actually evaluate, you need\n",
    "f1(f)()"
   ]
  },
  {
   "cell_type": "code",
   "execution_count": 10,
   "id": "415b3dec-e2cd-4c8c-bf5f-e96f6361b565",
   "metadata": {},
   "outputs": [
    {
     "name": "stdout",
     "output_type": "stream",
     "text": [
      "Started\n",
      "Hello\n",
      "Ended\n"
     ]
    }
   ],
   "source": [
    "#Or, you can store a function of f1 with parameter of function f as an object\n",
    "f = f1(f)\n",
    "f()\n",
    "\n",
    "#you can also create a function alias\n",
    "#x = f1(f)\n",
    "#x()"
   ]
  },
  {
   "cell_type": "markdown",
   "id": "fb0a2962-b68b-4ecf-91bf-4b6d3e5a009b",
   "metadata": {},
   "source": [
    "### 2. Understanding Decorators"
   ]
  },
  {
   "cell_type": "code",
   "execution_count": 11,
   "id": "bd256218-e503-4253-a7f9-f8478673bbd2",
   "metadata": {},
   "outputs": [],
   "source": [
    "#create a wrapper function\n",
    "def f1(func):\n",
    "    def wrapper():\n",
    "        print(\"Started\")\n",
    "        func()\n",
    "        print(\"Ended\")\n",
    "        \n",
    "    return wrapper\n",
    "\n",
    "#create a decorator\n",
    "@f1\n",
    "def f():\n",
    "    print(\"Hello\")"
   ]
  },
  {
   "cell_type": "markdown",
   "id": "b98b9172-6071-431e-9a23-b5eb43dbc10a",
   "metadata": {},
   "source": [
    "* Decorating function f with function f1\n",
    "* Everytime we call function f, the decorator calls function f1 and pass the function 1 as a parameter, returning the inner wrapper function"
   ]
  },
  {
   "cell_type": "code",
   "execution_count": 17,
   "id": "d17902d7-b12a-4bb4-a42b-c8af3576143e",
   "metadata": {},
   "outputs": [
    {
     "data": {
      "text/plain": [
       "<function __main__.f1.<locals>.wrapper()>"
      ]
     },
     "execution_count": 17,
     "metadata": {},
     "output_type": "execute_result"
    }
   ],
   "source": [
    "f"
   ]
  },
  {
   "cell_type": "code",
   "execution_count": 14,
   "id": "13b1060c-f6d8-4d57-9e5e-55096dab1171",
   "metadata": {},
   "outputs": [
    {
     "name": "stdout",
     "output_type": "stream",
     "text": [
      "Started\n",
      "Hello\n",
      "Ended\n"
     ]
    }
   ],
   "source": [
    "f()"
   ]
  },
  {
   "cell_type": "markdown",
   "id": "ef356ccb-a151-46c6-9fbc-bf25d501a29d",
   "metadata": {},
   "source": [
    "## 3. Improving Wrapper Function\n",
    "\n",
    "* Currently, wrapper function isn't set up to take any arguments\n",
    "* When we call a decorated function f, we get returned with the wrapper function within function f1\n",
    "* Wrapper function inherits func from its outer function f1 but, without any arguments passed in, it can't execute its **func()**"
   ]
  },
  {
   "cell_type": "code",
   "execution_count": 15,
   "id": "2b3f1301-4fac-4237-acf2-32597911edef",
   "metadata": {},
   "outputs": [],
   "source": [
    "#create a wrapper function\n",
    "def f1(func):\n",
    "    def wrapper():\n",
    "        print(\"Started\")\n",
    "        func()\n",
    "        print(\"Ended\")\n",
    "        \n",
    "    return wrapper\n",
    "\n",
    "#create a decorator\n",
    "@f1\n",
    "def f(a):\n",
    "    print(a)"
   ]
  },
  {
   "cell_type": "code",
   "execution_count": 19,
   "id": "3c794392-29fb-4d27-aee7-11773613a16d",
   "metadata": {},
   "outputs": [
    {
     "ename": "TypeError",
     "evalue": "wrapper() takes 0 positional arguments but 1 was given",
     "output_type": "error",
     "traceback": [
      "\u001b[0;31m---------------------------------------------------------------------------\u001b[0m",
      "\u001b[0;31mTypeError\u001b[0m                                 Traceback (most recent call last)",
      "\u001b[0;32m<ipython-input-19-82f5cf4ffef9>\u001b[0m in \u001b[0;36m<module>\u001b[0;34m\u001b[0m\n\u001b[0;32m----> 1\u001b[0;31m \u001b[0mf\u001b[0m\u001b[0;34m(\u001b[0m\u001b[0;34m\"Hello\"\u001b[0m\u001b[0;34m)\u001b[0m\u001b[0;34m\u001b[0m\u001b[0;34m\u001b[0m\u001b[0m\n\u001b[0m",
      "\u001b[0;31mTypeError\u001b[0m: wrapper() takes 0 positional arguments but 1 was given"
     ]
    }
   ],
   "source": [
    "f(\"Hello\")"
   ]
  },
  {
   "cell_type": "code",
   "execution_count": 20,
   "id": "bd1c61c0-b100-4e21-8747-f20a4aab7404",
   "metadata": {},
   "outputs": [],
   "source": [
    "#create a wrapper function\n",
    "def f1(func):\n",
    "    def wrapper(*args, **kwargs):\n",
    "        print(\"Started\")\n",
    "        func(*args, **kwargs)\n",
    "        print(\"Ended\")\n",
    "        \n",
    "    return wrapper\n",
    "\n",
    "#create a decorator\n",
    "@f1\n",
    "def f(a):\n",
    "    print(a)"
   ]
  },
  {
   "cell_type": "code",
   "execution_count": 21,
   "id": "bef86809-8d70-4c0f-bb27-95e8ef73b032",
   "metadata": {},
   "outputs": [
    {
     "name": "stdout",
     "output_type": "stream",
     "text": [
      "Started\n",
      "Hello Python!\n",
      "Ended\n"
     ]
    }
   ],
   "source": [
    "f(\"Hello Python!\")"
   ]
  },
  {
   "cell_type": "markdown",
   "id": "f1419997-aa44-4177-a7bb-e6e5926617ef",
   "metadata": {},
   "source": [
    "### 4. Practice Example"
   ]
  },
  {
   "cell_type": "code",
   "execution_count": 91,
   "id": "ba41039b-8faa-4e6b-b58c-da8257d22c58",
   "metadata": {},
   "outputs": [],
   "source": [
    "import time\n",
    "\n",
    "def timer(func):\n",
    "    def wrapper(*args, **kwargs):\n",
    "        start_time = time.time()        # code 1\n",
    "        result = func(*args, **kwargs)  # code 2, code 4\n",
    "        end_time = time.time()          # code 3\n",
    "        print(\"running time : {}\".format(end_time - start_time)) # code 3\n",
    "        return result\n",
    "    return wrapper\n",
    "\n",
    "\n",
    "def check_password(func):\n",
    "    def wrapper(*args, **kwargs):\n",
    "        pw = \"dss11\"\n",
    "        # check password\n",
    "        input_pw = input(\"insert pw : \")\n",
    "        if input_pw == pw:\n",
    "            result = func(*args, **kwargs)\n",
    "        else:\n",
    "            result = \"not allow!\"\n",
    "        return result \n",
    "    return wrapper"
   ]
  },
  {
   "cell_type": "code",
   "execution_count": 101,
   "id": "52304867-88ab-4a09-8fb5-46b6d416710f",
   "metadata": {},
   "outputs": [
    {
     "name": "stdin",
     "output_type": "stream",
     "text": [
      "insert pw :  dss11\n"
     ]
    },
    {
     "name": "stdout",
     "output_type": "stream",
     "text": [
      "running time : 0.0\n"
     ]
    },
    {
     "data": {
      "text/plain": [
       "3"
      ]
     },
     "execution_count": 101,
     "metadata": {},
     "output_type": "execute_result"
    }
   ],
   "source": [
    "@check_password\n",
    "@timer\n",
    "def plus_decorated(a, b):\n",
    "    return a + b\n",
    "\n",
    "plus_decorated(1, 2)"
   ]
  },
  {
   "cell_type": "markdown",
   "id": "c9d47be2-8c85-43ae-995b-38d983f42978",
   "metadata": {},
   "source": [
    "* This is equivalent to the below"
   ]
  },
  {
   "cell_type": "code",
   "execution_count": 103,
   "id": "52d05546-7290-43db-b3b4-03e0714cd58a",
   "metadata": {},
   "outputs": [
    {
     "name": "stdin",
     "output_type": "stream",
     "text": [
      "insert pw :  dss11\n"
     ]
    },
    {
     "name": "stdout",
     "output_type": "stream",
     "text": [
      "running time : 9.5367431640625e-07\n"
     ]
    },
    {
     "data": {
      "text/plain": [
       "3"
      ]
     },
     "execution_count": 103,
     "metadata": {},
     "output_type": "execute_result"
    }
   ],
   "source": [
    "# @check_password\n",
    "# @timer\n",
    "def plus_not_decorated(a, b):\n",
    "    return a + b\n",
    "\n",
    "check_password(timer(plus_not_decorated))(1, 2)"
   ]
  },
  {
   "cell_type": "markdown",
   "id": "3c03bdeb-b25a-43f5-be76-f283357a47a2",
   "metadata": {},
   "source": [
    "### 5. Practice Example"
   ]
  },
  {
   "cell_type": "code",
   "execution_count": 112,
   "id": "0a0a6038-9d88-4fb3-a196-8307a672722f",
   "metadata": {},
   "outputs": [],
   "source": [
    "user_datas = [\n",
    "    { \"user\": \"test\", \"pw\": \"1234\", \"count\": 0 },\n",
    "    { \"user\": \"python\", \"pw\": \"5678\", \"count\": 0 },\n",
    "]"
   ]
  },
  {
   "cell_type": "code",
   "execution_count": 113,
   "id": "09854a3e-f11a-45dd-8766-ac08167ebf3f",
   "metadata": {},
   "outputs": [],
   "source": [
    "# user data 를 입력 받아서 아이디와 패스워드를 체크하는 데코레이터 함수를 코드로 작성하세요.\n",
    "# 로그인 될때마다 count를 1씩 증가\n",
    "def need_login(func):\n",
    "    def wrapper(*args, **kwargs):\n",
    "        # 아이디 패스워드 입력\n",
    "        user, pw = tuple(input(\"insert user pw : \").split(\" \"))\n",
    "        \n",
    "        # 존재하는 아이디, 패스워드 확인\n",
    "        # for idx, user_data in zip(range(len(user_datas)), user_datas):\n",
    "        for idx, user_data in enumerate(user_datas):\n",
    "            \n",
    "            if (user_data[\"user\"] == user) and (user_data[\"pw\"] == pw):\n",
    "                \n",
    "                # count 데이터 추가 \n",
    "                user_datas[idx][\"count\"] += 1\n",
    "                \n",
    "                # 함수 실행\n",
    "                return func(*args, **kwargs)\n",
    "            \n",
    "        return \"wrong login data!\"\n",
    "    return wrapper\n",
    "\n",
    "\n",
    "@need_login\n",
    "def plus(num1, num2):\n",
    "    return num1 + num2"
   ]
  },
  {
   "cell_type": "code",
   "execution_count": 114,
   "id": "551deb4e-24e4-4cad-8e15-148376627137",
   "metadata": {},
   "outputs": [
    {
     "data": {
      "text/plain": [
       "[{'user': 'test', 'pw': '1234', 'count': 0},\n",
       " {'user': 'python', 'pw': '5678', 'count': 0}]"
      ]
     },
     "execution_count": 114,
     "metadata": {},
     "output_type": "execute_result"
    }
   ],
   "source": [
    "user_datas"
   ]
  },
  {
   "cell_type": "code",
   "execution_count": 115,
   "id": "98c01247-a825-4675-95d8-427069c6f311",
   "metadata": {},
   "outputs": [
    {
     "name": "stdin",
     "output_type": "stream",
     "text": [
      "insert user pw :  test 1234\n"
     ]
    },
    {
     "data": {
      "text/plain": [
       "3"
      ]
     },
     "execution_count": 115,
     "metadata": {},
     "output_type": "execute_result"
    }
   ],
   "source": [
    "plus(1, 2)"
   ]
  },
  {
   "cell_type": "code",
   "execution_count": 116,
   "id": "03d39b50-f042-4b34-8ca7-3678e4b5c92e",
   "metadata": {},
   "outputs": [
    {
     "data": {
      "text/plain": [
       "[{'user': 'test', 'pw': '1234', 'count': 1},\n",
       " {'user': 'python', 'pw': '5678', 'count': 0}]"
      ]
     },
     "execution_count": 116,
     "metadata": {},
     "output_type": "execute_result"
    }
   ],
   "source": [
    "user_datas"
   ]
  },
  {
   "cell_type": "code",
   "execution_count": null,
   "id": "7a9cbcc4-514d-4fec-b593-7f01f97fa1c8",
   "metadata": {},
   "outputs": [],
   "source": []
  }
 ],
 "metadata": {
  "kernelspec": {
   "display_name": "Python 3",
   "language": "python",
   "name": "python3"
  },
  "language_info": {
   "codemirror_mode": {
    "name": "ipython",
    "version": 3
   },
   "file_extension": ".py",
   "mimetype": "text/x-python",
   "name": "python",
   "nbconvert_exporter": "python",
   "pygments_lexer": "ipython3",
   "version": "3.8.8"
  }
 },
 "nbformat": 4,
 "nbformat_minor": 5
}
