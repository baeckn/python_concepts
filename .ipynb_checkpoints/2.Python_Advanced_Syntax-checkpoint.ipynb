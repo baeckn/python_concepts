{
 "cells": [
  {
   "cell_type": "markdown",
   "id": "9d18c5b4-6196-4f09-b5af-b5f769490751",
   "metadata": {},
   "source": [
    "## Scope\n",
    "\n",
    "* Scopes of variables declared inside and outside of a function differs"
   ]
  },
  {
   "cell_type": "code",
   "execution_count": 1,
   "id": "7ab80ebd-91a7-44f8-83de-b3c532156b69",
   "metadata": {},
   "outputs": [
    {
     "name": "stdout",
     "output_type": "stream",
     "text": [
      "10\n"
     ]
    }
   ],
   "source": [
    "# global\n",
    "gv = 10\n",
    "\n",
    "def echo():\n",
    "    print(gv)\n",
    "\n",
    "echo()"
   ]
  },
  {
   "cell_type": "code",
   "execution_count": 2,
   "id": "a32330ab-574c-4b4b-9458-2e75f6ba5a45",
   "metadata": {},
   "outputs": [
    {
     "name": "stdout",
     "output_type": "stream",
     "text": [
      "100\n"
     ]
    },
    {
     "data": {
      "text/plain": [
       "10"
      ]
     },
     "execution_count": 2,
     "metadata": {},
     "output_type": "execute_result"
    }
   ],
   "source": [
    "# local\n",
    "gv = 10\n",
    "\n",
    "def echo():\n",
    "    gv = 100\n",
    "    print(gv)\n",
    "\n",
    "echo()\n",
    "gv"
   ]
  },
  {
   "cell_type": "code",
   "execution_count": 5,
   "id": "7771aef1-ff33-4caf-8d38-b60dbfb0f4f8",
   "metadata": {},
   "outputs": [
    {
     "name": "stdout",
     "output_type": "stream",
     "text": [
      "100\n"
     ]
    },
    {
     "data": {
      "text/plain": [
       "100"
      ]
     },
     "execution_count": 5,
     "metadata": {},
     "output_type": "execute_result"
    }
   ],
   "source": [
    "#without calling a global variable, any variable declared within a function\n",
    "#only lasts within the function.\n",
    "gv = 10\n",
    "\n",
    "def echo():\n",
    "    global gv\n",
    "    gv = 100\n",
    "    print(gv)\n",
    "\n",
    "echo()\n",
    "gv"
   ]
  },
  {
   "cell_type": "markdown",
   "id": "8a01ae5d-18dd-4c81-bd05-6f89ce4a8508",
   "metadata": {},
   "source": [
    "## Inner Function\n",
    "\n",
    "* When there is a function within a function"
   ]
  },
  {
   "cell_type": "code",
   "execution_count": 7,
   "id": "95f20c90-84d8-4f2e-9a0d-2a0daa62c5d7",
   "metadata": {},
   "outputs": [
    {
     "data": {
      "text/plain": [
       "5"
      ]
     },
     "execution_count": 7,
     "metadata": {},
     "output_type": "execute_result"
    }
   ],
   "source": [
    "def outer(a, b):\n",
    "    def inner(c, d):\n",
    "        return c + d\n",
    "    \n",
    "    return inner(a, b)\n",
    "\n",
    "outer(2, 3)"
   ]
  },
  {
   "cell_type": "markdown",
   "id": "614a1bb8-dd50-4ff5-bd0b-d4b906293814",
   "metadata": {},
   "source": [
    "* When function **outer** is called, it evaluates and returns its inner function called **inner**\n",
    "* Usually, you cannot try to call for an inner function directly from the global environment"
   ]
  },
  {
   "cell_type": "code",
   "execution_count": 8,
   "id": "4a6d1030-445e-4455-9866-00b171f30da0",
   "metadata": {},
   "outputs": [
    {
     "ename": "NameError",
     "evalue": "name 'inner' is not defined",
     "output_type": "error",
     "traceback": [
      "\u001b[0;31m---------------------------------------------------------------------------\u001b[0m",
      "\u001b[0;31mNameError\u001b[0m                                 Traceback (most recent call last)",
      "\u001b[0;32m<ipython-input-8-8c5ce7fdaabc>\u001b[0m in \u001b[0;36m<module>\u001b[0;34m\u001b[0m\n\u001b[1;32m      1\u001b[0m \u001b[0;31m#impossible to call a local function from the global setting\u001b[0m\u001b[0;34m\u001b[0m\u001b[0;34m\u001b[0m\u001b[0;34m\u001b[0m\u001b[0m\n\u001b[0;32m----> 2\u001b[0;31m \u001b[0minner\u001b[0m\u001b[0;34m(\u001b[0m\u001b[0;36m2\u001b[0m\u001b[0;34m,\u001b[0m \u001b[0;36m3\u001b[0m\u001b[0;34m)\u001b[0m\u001b[0;34m\u001b[0m\u001b[0;34m\u001b[0m\u001b[0m\n\u001b[0m",
      "\u001b[0;31mNameError\u001b[0m: name 'inner' is not defined"
     ]
    }
   ],
   "source": [
    "#impossible to call a local function from the global setting\n",
    "inner(2, 3)"
   ]
  },
  {
   "cell_type": "code",
   "execution_count": 14,
   "id": "d79b4cbe-8c4f-4a0a-bcba-fad53db0de4f",
   "metadata": {},
   "outputs": [],
   "source": [
    "#outer function structure that allows a callable inner function from the global setting\n",
    "def outer(a, b):\n",
    "    \n",
    "    def inner(c, d):\n",
    "        print(a, b)\n",
    "        return c + d\n",
    "    \n",
    "    return inner"
   ]
  },
  {
   "cell_type": "code",
   "execution_count": 15,
   "id": "c28c0c51-c21c-4e35-a074-95898cdf3cec",
   "metadata": {},
   "outputs": [
    {
     "data": {
      "text/plain": [
       "<function __main__.outer.<locals>.inner(c, d)>"
      ]
     },
     "execution_count": 15,
     "metadata": {},
     "output_type": "execute_result"
    }
   ],
   "source": [
    "#you evaluate an outer function to call for an inner function\n",
    "outer(1, 2)"
   ]
  },
  {
   "cell_type": "code",
   "execution_count": 16,
   "id": "fb753773-862a-4858-8626-9d12afe4a323",
   "metadata": {},
   "outputs": [
    {
     "name": "stdout",
     "output_type": "stream",
     "text": [
      "1 2\n"
     ]
    },
    {
     "data": {
      "text/plain": [
       "7"
      ]
     },
     "execution_count": 16,
     "metadata": {},
     "output_type": "execute_result"
    }
   ],
   "source": [
    "#this is equivalent to inner(3, 4)\n",
    "outer(1, 2)(3, 4)"
   ]
  },
  {
   "cell_type": "markdown",
   "id": "8b1c0c1f-922b-4ae7-869a-3599a9aa3651",
   "metadata": {},
   "source": [
    "## Callback Function\n",
    "\n",
    "* Allows you to use a function as an argument and parement"
   ]
  },
  {
   "cell_type": "code",
   "execution_count": 23,
   "id": "0fb64d46-700c-4da8-a556-64734c72edaf",
   "metadata": {},
   "outputs": [],
   "source": [
    "def calc(func, a, b):\n",
    "    return func(a, b)\n",
    "\n",
    "\n",
    "def plus(a, b):\n",
    "    return a + b\n",
    "\n",
    "\n",
    "def minus(a, b):\n",
    "    return a - b"
   ]
  },
  {
   "cell_type": "code",
   "execution_count": 24,
   "id": "f7d90ed5-8401-49a1-9185-8649a8dc7edb",
   "metadata": {},
   "outputs": [
    {
     "data": {
      "text/plain": [
       "15"
      ]
     },
     "execution_count": 24,
     "metadata": {},
     "output_type": "execute_result"
    }
   ],
   "source": [
    "#addition\n",
    "calc(plus, 10, 5)"
   ]
  },
  {
   "cell_type": "code",
   "execution_count": 25,
   "id": "36be156e-8f72-4709-8929-86217f27d4bb",
   "metadata": {},
   "outputs": [
    {
     "data": {
      "text/plain": [
       "5"
      ]
     },
     "execution_count": 25,
     "metadata": {},
     "output_type": "execute_result"
    }
   ],
   "source": [
    "#subtraction\n",
    "calc(minus, 10, 5)"
   ]
  },
  {
   "cell_type": "markdown",
   "id": "5c64bb3f-fee9-432d-87e8-3160a60b780f",
   "metadata": {},
   "source": [
    "## Lambda Function\n",
    "\n",
    "* a single-line function declared with no name, which can have any number of arguments, but it can only have one expression\n",
    "* ternary operator"
   ]
  },
  {
   "cell_type": "code",
   "execution_count": 26,
   "id": "663cd1b6-7d2d-49d3-8fad-853f089d18d9",
   "metadata": {},
   "outputs": [
    {
     "data": {
      "text/plain": [
       "3"
      ]
     },
     "execution_count": 26,
     "metadata": {},
     "output_type": "execute_result"
    }
   ],
   "source": [
    "def plus(a, b):\n",
    "    return a + b\n",
    "\n",
    "plus(1, 2)"
   ]
  },
  {
   "cell_type": "code",
   "execution_count": 29,
   "id": "0e74cfff-3de8-488b-bdb7-51a1d254e4a2",
   "metadata": {},
   "outputs": [
    {
     "data": {
      "text/plain": [
       "5"
      ]
     },
     "execution_count": 29,
     "metadata": {},
     "output_type": "execute_result"
    }
   ],
   "source": [
    "#declaring a lambda function\n",
    "#lambda a, b means declaring parameters of this function\n",
    "plus_lambda = lambda a, b: a + b\n",
    "\n",
    "#evaluate\n",
    "plus_lambda(2, 3)"
   ]
  },
  {
   "cell_type": "code",
   "execution_count": 30,
   "id": "38856853-15f8-453c-badc-186adf158bb6",
   "metadata": {},
   "outputs": [
    {
     "data": {
      "text/plain": [
       "12"
      ]
     },
     "execution_count": 30,
     "metadata": {},
     "output_type": "execute_result"
    }
   ],
   "source": [
    "#combining callback function and a lambda function\n",
    "calc(lambda a, b: a * b, 3, 4)"
   ]
  },
  {
   "cell_type": "markdown",
   "id": "fc28c0d5-cf86-4235-b2d1-aafc3a60e46e",
   "metadata": {},
   "source": [
    "## Map, Reduce, Filter\n",
    "\n",
    "* Map: Performing a specific function to elements of an order set of data\n",
    "* Filter: Filtering elements of a list data that meet certain requirements\n",
    "* Reduce: A function that cumulates results of operations of elements in a list"
   ]
  },
  {
   "cell_type": "code",
   "execution_count": 6,
   "id": "a6c617b0-7843-4e71-b4da-692a4bb8b7d2",
   "metadata": {},
   "outputs": [
    {
     "data": {
      "text/plain": [
       "['odd', 'even', 'odd', 'even']"
      ]
     },
     "execution_count": 6,
     "metadata": {},
     "output_type": "execute_result"
    }
   ],
   "source": [
    "#Map: create a list\n",
    "ls = [1, 2, 3, 4]\n",
    "\n",
    "def odd_even(num):\n",
    "    return \"odd\" if num % 2 else \"even\"\n",
    "\n",
    "list(map(odd_even, ls))"
   ]
  },
  {
   "cell_type": "code",
   "execution_count": 7,
   "id": "a0ecb650-cb1b-4ae2-929e-c9d5d39a5af1",
   "metadata": {},
   "outputs": [
    {
     "data": {
      "text/plain": [
       "[1, 3, 5, 7, 9]"
      ]
     },
     "execution_count": 7,
     "metadata": {},
     "output_type": "execute_result"
    }
   ],
   "source": [
    "#Filter: create a list\n",
    "ls = range(10)\n",
    "\n",
    "#leaving odd numbers\n",
    "list(filter(lambda data: True if data % 2 else False, ls))"
   ]
  },
  {
   "cell_type": "code",
   "execution_count": 8,
   "id": "853bea59-8974-4fc3-ba8d-efc36e0a2f0f",
   "metadata": {},
   "outputs": [
    {
     "data": {
      "text/plain": [
       "15"
      ]
     },
     "execution_count": 8,
     "metadata": {},
     "output_type": "execute_result"
    }
   ],
   "source": [
    "#Reduce\n",
    "from functools import reduce\n",
    "\n",
    "ls = [3, 1, 2, 4, 5]\n",
    "reduce(lambda x, y: x + y, ls)"
   ]
  },
  {
   "cell_type": "code",
   "execution_count": null,
   "id": "8646dfbe-9bcb-4a35-acdc-509f4afd5911",
   "metadata": {},
   "outputs": [],
   "source": []
  }
 ],
 "metadata": {
  "kernelspec": {
   "display_name": "Python 3",
   "language": "python",
   "name": "python3"
  },
  "language_info": {
   "codemirror_mode": {
    "name": "ipython",
    "version": 3
   },
   "file_extension": ".py",
   "mimetype": "text/x-python",
   "name": "python",
   "nbconvert_exporter": "python",
   "pygments_lexer": "ipython3",
   "version": "3.8.8"
  }
 },
 "nbformat": 4,
 "nbformat_minor": 5
}
