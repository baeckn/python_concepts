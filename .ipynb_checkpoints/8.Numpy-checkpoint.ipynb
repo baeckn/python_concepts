{
 "cells": [
  {
   "cell_type": "code",
   "execution_count": 1,
   "id": "5297ece6-4cc7-40c2-ab50-e131806f3e7b",
   "metadata": {},
   "outputs": [],
   "source": [
    "import numpy as np"
   ]
  },
  {
   "cell_type": "markdown",
   "id": "261a707c-c839-4823-aae6-02031cb4c337",
   "metadata": {},
   "source": [
    "### 1. Creating an Ndarray Object\n",
    "\n",
    "* **ndarray** is a data type\n",
    "* An **ndarray** object can only contain identical types of elements"
   ]
  },
  {
   "cell_type": "code",
   "execution_count": 12,
   "id": "786c234b-221d-419f-82b2-ffb1036c71f9",
   "metadata": {},
   "outputs": [
    {
     "name": "stdout",
     "output_type": "stream",
     "text": [
      "[1 2 3]\n",
      "<class 'numpy.ndarray'>\n",
      "1\n",
      "(3,)\n"
     ]
    }
   ],
   "source": [
    "#creating a matrix object\n",
    "array = np.array([1, 2, 3])\n",
    "print(array)\n",
    "print(type(array))\n",
    "print(array.ndim)\n",
    "print(array.shape)"
   ]
  },
  {
   "cell_type": "code",
   "execution_count": 13,
   "id": "6ebffc0f-d6f4-4544-8296-293debdb2993",
   "metadata": {},
   "outputs": [
    {
     "name": "stdout",
     "output_type": "stream",
     "text": [
      "[[1 2 3]\n",
      " [4 5 6]]\n",
      "<class 'numpy.ndarray'>\n",
      "2\n",
      "(2, 3)\n"
     ]
    }
   ],
   "source": [
    "#this is a two-dimensional matrix\n",
    "array2 = np.array(\n",
    "    [[1, 2, 3],\n",
    "    [4, 5, 6]],\n",
    ")\n",
    "print(array2)\n",
    "print(type(array2))\n",
    "print(array2.ndim)\n",
    "print(array2.shape)"
   ]
  },
  {
   "cell_type": "markdown",
   "id": "19016dfe-a2d0-4914-8835-c3e239ad45f2",
   "metadata": {},
   "source": [
    "### 2. Reshaping Matrix"
   ]
  },
  {
   "cell_type": "code",
   "execution_count": 18,
   "id": "236fe889-6783-4a09-8e3e-29986a26f0df",
   "metadata": {},
   "outputs": [
    {
     "name": "stdout",
     "output_type": "stream",
     "text": [
      "[[1 2]\n",
      " [3 4]\n",
      " [5 6]]\n",
      "2\n",
      "(3, 2)\n"
     ]
    }
   ],
   "source": [
    "#reshape\n",
    "array2_reshaped = arrary2.reshape(3, 2)\n",
    "print(array2_reshaped)\n",
    "print(array2_reshaped.ndim)\n",
    "print(array2_reshaped.shape)"
   ]
  },
  {
   "cell_type": "markdown",
   "id": "e1f21faf-49bc-4f1b-ba64-9b615cb7544c",
   "metadata": {},
   "source": [
    "### 3. Matrix Offset Indexing"
   ]
  },
  {
   "cell_type": "code",
   "execution_count": 19,
   "id": "7e76126c-6757-4c5b-b2ab-9a57a32dcc9a",
   "metadata": {},
   "outputs": [
    {
     "data": {
      "text/plain": [
       "array([[1, 2, 3],\n",
       "       [4, 5, 6]])"
      ]
     },
     "execution_count": 19,
     "metadata": {},
     "output_type": "execute_result"
    }
   ],
   "source": [
    "arrary2"
   ]
  },
  {
   "cell_type": "code",
   "execution_count": 23,
   "id": "fc773489-abab-45c3-8c8d-cdfda68df8e0",
   "metadata": {},
   "outputs": [
    {
     "name": "stdout",
     "output_type": "stream",
     "text": [
      "[1 2 3]\n",
      "[4 5 6]\n"
     ]
    }
   ],
   "source": [
    "print(arrary2[0])\n",
    "print(arrary2[1])"
   ]
  },
  {
   "cell_type": "code",
   "execution_count": 25,
   "id": "9796d73f-de26-4179-ba8a-bef8f554ccd2",
   "metadata": {},
   "outputs": [
    {
     "data": {
      "text/plain": [
       "6"
      ]
     },
     "execution_count": 25,
     "metadata": {},
     "output_type": "execute_result"
    }
   ],
   "source": [
    "#this is equivalent to arrary2[1][2]\n",
    "array2[1, 2]"
   ]
  },
  {
   "cell_type": "markdown",
   "id": "9b4b0fde-8e72-45b2-9962-aa95bbf6b5f2",
   "metadata": {},
   "source": [
    "### 4. Changing Data Elements\n",
    "\n",
    "* Works very similar to lists"
   ]
  },
  {
   "cell_type": "code",
   "execution_count": 29,
   "id": "2dd4890b-f570-49b8-a566-908e2c1e71c1",
   "metadata": {},
   "outputs": [
    {
     "data": {
      "text/plain": [
       "[1, 5, 3]"
      ]
     },
     "execution_count": 29,
     "metadata": {},
     "output_type": "execute_result"
    }
   ],
   "source": [
    "#how list works\n",
    "ls = [1,2,3]\n",
    "ls[1] = 5\n",
    "ls"
   ]
  },
  {
   "cell_type": "code",
   "execution_count": 27,
   "id": "c400cd7f-4acb-4b5a-b7d1-49daae9bf4ba",
   "metadata": {},
   "outputs": [
    {
     "data": {
      "text/plain": [
       "array([[1, 2, 3],\n",
       "       [4, 5, 6]])"
      ]
     },
     "execution_count": 27,
     "metadata": {},
     "output_type": "execute_result"
    }
   ],
   "source": [
    "array2"
   ]
  },
  {
   "cell_type": "code",
   "execution_count": 30,
   "id": "2becd033-a931-4623-94d0-ce6d54ac50d8",
   "metadata": {},
   "outputs": [
    {
     "data": {
      "text/plain": [
       "array([[ 1,  2,  3],\n",
       "       [ 4,  5, 10]])"
      ]
     },
     "execution_count": 30,
     "metadata": {},
     "output_type": "execute_result"
    }
   ],
   "source": [
    "#changing array2\n",
    "arrary2[1][2] = 10\n",
    "arrary2"
   ]
  },
  {
   "cell_type": "markdown",
   "id": "8cf0148c-4f3f-4768-833e-524e534810d7",
   "metadata": {},
   "source": [
    "* Broadcasting"
   ]
  },
  {
   "cell_type": "code",
   "execution_count": 31,
   "id": "18cb4cb6-1805-4454-852c-9d17d9700251",
   "metadata": {},
   "outputs": [
    {
     "data": {
      "text/plain": [
       "array([[0, 0, 0],\n",
       "       [4, 5, 6]])"
      ]
     },
     "execution_count": 31,
     "metadata": {},
     "output_type": "execute_result"
    }
   ],
   "source": [
    "#broadcasting\n",
    "array2[0] = 0\n",
    "array2"
   ]
  },
  {
   "cell_type": "markdown",
   "id": "806e1b39-d423-4e79-bdcf-8d288e87be8a",
   "metadata": {},
   "source": [
    "* Multiple assignments"
   ]
  },
  {
   "cell_type": "code",
   "execution_count": 32,
   "id": "fe0f3c4b-2b4e-4cff-9c2b-33b2a69568f7",
   "metadata": {},
   "outputs": [
    {
     "data": {
      "text/plain": [
       "array([[7, 8, 9],\n",
       "       [4, 5, 6]])"
      ]
     },
     "execution_count": 32,
     "metadata": {},
     "output_type": "execute_result"
    }
   ],
   "source": [
    "#multiple assignments\n",
    "array2[0] = [7, 8, 9]\n",
    "array2"
   ]
  },
  {
   "cell_type": "markdown",
   "id": "c4bf94d3-f601-4ada-a02c-22f7e9a0c997",
   "metadata": {},
   "source": [
    "* Boolean Indexing"
   ]
  },
  {
   "cell_type": "code",
   "execution_count": 34,
   "id": "03ddc985-8ea9-46a7-b633-95e52b7334f6",
   "metadata": {},
   "outputs": [
    {
     "data": {
      "text/plain": [
       "array([8, 9])"
      ]
     },
     "execution_count": 34,
     "metadata": {},
     "output_type": "execute_result"
    }
   ],
   "source": [
    "#boolean indexing\n",
    "array2[array2 > 7]"
   ]
  },
  {
   "cell_type": "code",
   "execution_count": 36,
   "id": "55f9d602-8f31-4667-974b-20f70a83e6eb",
   "metadata": {},
   "outputs": [
    {
     "data": {
      "text/plain": [
       "array([[  7, 100, 100],\n",
       "       [  4,   5,   6]])"
      ]
     },
     "execution_count": 36,
     "metadata": {},
     "output_type": "execute_result"
    }
   ],
   "source": [
    "array2[array2 > 7] = 100\n",
    "array2"
   ]
  },
  {
   "cell_type": "markdown",
   "id": "f1c83de6-b9d9-472f-bad4-feaa5016abb1",
   "metadata": {},
   "source": [
    "### 5. Zeros and Ones"
   ]
  },
  {
   "cell_type": "code",
   "execution_count": 40,
   "id": "870e5a2b-4387-4672-a210-ed49dd68e105",
   "metadata": {},
   "outputs": [
    {
     "name": "stdout",
     "output_type": "stream",
     "text": [
      "[[0. 0. 0.]\n",
      " [0. 0. 0.]]\n",
      "2\n",
      "(2, 3)\n"
     ]
    }
   ],
   "source": [
    "data = np.zeros((2, 3))\n",
    "print(data)\n",
    "print(data.ndim)\n",
    "print(data.shape)"
   ]
  },
  {
   "cell_type": "code",
   "execution_count": 42,
   "id": "2793051f-762f-4ded-8411-684e1eeea09d",
   "metadata": {},
   "outputs": [
    {
     "data": {
      "text/plain": [
       "dtype('float64')"
      ]
     },
     "execution_count": 42,
     "metadata": {},
     "output_type": "execute_result"
    }
   ],
   "source": [
    "#returns data types of elements in arrays\n",
    "data.dtype"
   ]
  },
  {
   "cell_type": "code",
   "execution_count": 43,
   "id": "b38f6c6e-41b0-4f5c-9156-a5fa3bb05844",
   "metadata": {},
   "outputs": [
    {
     "name": "stdout",
     "output_type": "stream",
     "text": [
      "[[1. 1. 1.]\n",
      " [1. 1. 1.]]\n",
      "2\n",
      "(2, 3)\n"
     ]
    }
   ],
   "source": [
    "data_ones = np.ones((2, 3))\n",
    "print(data_ones)\n",
    "print(data_ones.ndim)\n",
    "print(data_ones.shape)"
   ]
  },
  {
   "cell_type": "markdown",
   "id": "f12c729c-d916-4c3a-82d1-11962ad09522",
   "metadata": {},
   "source": [
    "### 6. Arange\n",
    "\n",
    "* Simliar to range function"
   ]
  },
  {
   "cell_type": "code",
   "execution_count": 47,
   "id": "312b79bb-1e5a-4ddc-83f0-f49a79b8e4ef",
   "metadata": {},
   "outputs": [
    {
     "data": {
      "text/plain": [
       "array([0, 1, 2, 3, 4])"
      ]
     },
     "execution_count": 47,
     "metadata": {},
     "output_type": "execute_result"
    }
   ],
   "source": [
    "#arange\n",
    "np.arange(5)"
   ]
  },
  {
   "cell_type": "code",
   "execution_count": 48,
   "id": "23ec148c-7639-4993-856b-48636addcea1",
   "metadata": {},
   "outputs": [
    {
     "data": {
      "text/plain": [
       "array([5, 6, 7, 8, 9])"
      ]
     },
     "execution_count": 48,
     "metadata": {},
     "output_type": "execute_result"
    }
   ],
   "source": [
    "#specify range\n",
    "np.arange(5, 10)"
   ]
  },
  {
   "cell_type": "code",
   "execution_count": 49,
   "id": "c9fc61d6-509b-4cbb-af4e-4c0707f55e14",
   "metadata": {},
   "outputs": [
    {
     "data": {
      "text/plain": [
       "array([5, 7, 9])"
      ]
     },
     "execution_count": 49,
     "metadata": {},
     "output_type": "execute_result"
    }
   ],
   "source": [
    "#with steps\n",
    "np.arange(5, 10, 2)"
   ]
  },
  {
   "cell_type": "markdown",
   "id": "925c4a9d-2c9a-4cf1-8e2d-5b6a4b84f112",
   "metadata": {},
   "source": [
    "# Quiz 1\n",
    "\n",
    "- 100 ~ 130까지 랜덤한 숫자를 가지는 8*8행렬을 만들고,\n",
    "- 3의 배수는 fiz, 5의 배수는 buz, 3과 5의 배수는 fbz 문자로 변환\n",
    "- 위의 조건에 맞지 않는 데이터는 랜덤하게 생성된 정수로 출력\n",
    "- 랜덤한 행렬 데이터\n",
    "\n",
    "```\n",
    "datas = np.random.randint(100, 130, size=(8, 8))\n",
    "```\n",
    "- 데이터 타입이 정수 -> 문자열 : ndarray.astype()"
   ]
  },
  {
   "cell_type": "code",
   "execution_count": 51,
   "id": "7a650117-9181-4f73-aa22-67e1c5b98a68",
   "metadata": {},
   "outputs": [
    {
     "data": {
      "text/plain": [
       "array([[104, 103, 101, 110, 116, 128, 105, 114],\n",
       "       [112, 127, 115, 109, 128, 119, 125, 105],\n",
       "       [106, 122, 117, 112, 110, 109, 100, 104],\n",
       "       [110, 106, 105, 119, 111, 118, 110, 121],\n",
       "       [115, 105, 103, 115, 123, 101, 117, 114],\n",
       "       [123, 101, 126, 104, 122, 118, 106, 129],\n",
       "       [113, 106, 116, 129, 105, 101, 123, 105],\n",
       "       [114, 110, 116, 113, 119, 122, 119, 127]])"
      ]
     },
     "execution_count": 51,
     "metadata": {},
     "output_type": "execute_result"
    }
   ],
   "source": [
    "#create random matrix\n",
    "datas = np.random.randint(100, 130, size=(8, 8))\n",
    "datas"
   ]
  },
  {
   "cell_type": "code",
   "execution_count": 52,
   "id": "1bf0690c-d1d3-4802-877d-a2c04597b5c9",
   "metadata": {},
   "outputs": [],
   "source": [
    "#find indices of multiple of 3, 5, and 10\n",
    "idx_3 = datas % 3 == 0\n",
    "idx_5 = datas % 5 == 0\n",
    "idx_15 = datas % 15 == 0"
   ]
  },
  {
   "cell_type": "code",
   "execution_count": 58,
   "id": "b6f1ad50-4642-4726-a0f3-5caa91df1dee",
   "metadata": {},
   "outputs": [
    {
     "name": "stdout",
     "output_type": "stream",
     "text": [
      "int64\n"
     ]
    },
    {
     "data": {
      "text/plain": [
       "array([['104', '103', '101', '110', '116', '128', '105', '114'],\n",
       "       ['112', '127', '115', '109', '128', '119', '125', '105'],\n",
       "       ['106', '122', '117', '112', '110', '109', '100', '104'],\n",
       "       ['110', '106', '105', '119', '111', '118', '110', '121'],\n",
       "       ['115', '105', '103', '115', '123', '101', '117', '114'],\n",
       "       ['123', '101', '126', '104', '122', '118', '106', '129'],\n",
       "       ['113', '106', '116', '129', '105', '101', '123', '105'],\n",
       "       ['114', '110', '116', '113', '119', '122', '119', '127']],\n",
       "      dtype='<U21')"
      ]
     },
     "execution_count": 58,
     "metadata": {},
     "output_type": "execute_result"
    }
   ],
   "source": [
    "#convert datas to string\n",
    "print(datas.dtype)\n",
    "\n",
    "#create a copy of the matrix\n",
    "result = datas.astype(\"str\")\n",
    "result"
   ]
  },
  {
   "cell_type": "code",
   "execution_count": 59,
   "id": "658ff2ab-c10c-4c64-abe3-0aabe75db11d",
   "metadata": {},
   "outputs": [
    {
     "data": {
      "text/plain": [
       "array([['104', '103', '101', 'buz', '116', '128', 'fbz', 'fiz'],\n",
       "       ['112', '127', 'buz', '109', '128', '119', 'buz', 'fbz'],\n",
       "       ['106', '122', 'fiz', '112', 'buz', '109', 'buz', '104'],\n",
       "       ['buz', '106', 'fbz', '119', 'fiz', '118', 'buz', '121'],\n",
       "       ['buz', 'fbz', '103', 'buz', 'fiz', '101', 'fiz', 'fiz'],\n",
       "       ['fiz', '101', 'fiz', '104', '122', '118', '106', 'fiz'],\n",
       "       ['113', '106', '116', 'fiz', 'fbz', '101', 'fiz', 'fbz'],\n",
       "       ['fiz', 'buz', '116', '113', '119', '122', '119', '127']],\n",
       "      dtype='<U21')"
      ]
     },
     "execution_count": 59,
     "metadata": {},
     "output_type": "execute_result"
    }
   ],
   "source": [
    "result[idx_3] = \"fiz\"\n",
    "result[idx_5] = \"buz\"\n",
    "result[idx_15] = \"fbz\"\n",
    "\n",
    "result"
   ]
  },
  {
   "cell_type": "code",
   "execution_count": null,
   "id": "edf39aa5-9bcf-4260-8d58-a58b3495594d",
   "metadata": {},
   "outputs": [],
   "source": []
  }
 ],
 "metadata": {
  "kernelspec": {
   "display_name": "Python 3",
   "language": "python",
   "name": "python3"
  },
  "language_info": {
   "codemirror_mode": {
    "name": "ipython",
    "version": 3
   },
   "file_extension": ".py",
   "mimetype": "text/x-python",
   "name": "python",
   "nbconvert_exporter": "python",
   "pygments_lexer": "ipython3",
   "version": "3.8.8"
  }
 },
 "nbformat": 4,
 "nbformat_minor": 5
}
